{
 "cells": [
  {
   "cell_type": "markdown",
   "metadata": {
    "id": "WAVW0QTjf3yN"
   },
   "source": [
    "# Day 6 Lesson"
   ]
  },
  {
   "cell_type": "code",
   "execution_count": 1,
   "metadata": {
    "id": "y3yf08SoZsK3"
   },
   "outputs": [],
   "source": [
    "import numpy as np\n",
    "import pandas as pd\n",
    "import scipy.stats as st\n",
    "import seaborn as sns\n",
    "import matplotlib.pyplot as plt\n",
    "import statsmodels.formula.api as smf\n",
    "import scipy.stats as st\n",
    "import math"
   ]
  },
  {
   "cell_type": "markdown",
   "metadata": {
    "id": "kYdBqVqaf-EY"
   },
   "source": [
    "#### Single Regression"
   ]
  },
  {
   "cell_type": "code",
   "execution_count": 2,
   "metadata": {
    "colab": {
     "base_uri": "https://localhost:8080/",
     "height": 238
    },
    "executionInfo": {
     "elapsed": 11,
     "status": "ok",
     "timestamp": 1678325208503,
     "user": {
      "displayName": "Bryan Weber",
      "userId": "07192968577867878386"
     },
     "user_tz": 300
    },
    "id": "M1tDN3LmgFJh",
    "outputId": "48704fc7-ffd3-4483-b466-8a2543059121"
   },
   "outputs": [
    {
     "data": {
      "text/html": [
       "<div>\n",
       "<style scoped>\n",
       "    .dataframe tbody tr th:only-of-type {\n",
       "        vertical-align: middle;\n",
       "    }\n",
       "\n",
       "    .dataframe tbody tr th {\n",
       "        vertical-align: top;\n",
       "    }\n",
       "\n",
       "    .dataframe thead th {\n",
       "        text-align: right;\n",
       "    }\n",
       "</style>\n",
       "<table border=\"1\" class=\"dataframe\">\n",
       "  <thead>\n",
       "    <tr style=\"text-align: right;\">\n",
       "      <th></th>\n",
       "      <th>Drinks</th>\n",
       "      <th>Reaction</th>\n",
       "    </tr>\n",
       "  </thead>\n",
       "  <tbody>\n",
       "    <tr>\n",
       "      <th>0</th>\n",
       "      <td>0</td>\n",
       "      <td>6</td>\n",
       "    </tr>\n",
       "    <tr>\n",
       "      <th>1</th>\n",
       "      <td>1</td>\n",
       "      <td>12</td>\n",
       "    </tr>\n",
       "    <tr>\n",
       "      <th>2</th>\n",
       "      <td>3</td>\n",
       "      <td>18</td>\n",
       "    </tr>\n",
       "    <tr>\n",
       "      <th>3</th>\n",
       "      <td>6</td>\n",
       "      <td>33</td>\n",
       "    </tr>\n",
       "    <tr>\n",
       "      <th>4</th>\n",
       "      <td>6</td>\n",
       "      <td>42</td>\n",
       "    </tr>\n",
       "    <tr>\n",
       "      <th>5</th>\n",
       "      <td>8</td>\n",
       "      <td>57</td>\n",
       "    </tr>\n",
       "  </tbody>\n",
       "</table>\n",
       "</div>"
      ],
      "text/plain": [
       "   Drinks  Reaction\n",
       "0       0         6\n",
       "1       1        12\n",
       "2       3        18\n",
       "3       6        33\n",
       "4       6        42\n",
       "5       8        57"
      ]
     },
     "execution_count": 2,
     "metadata": {},
     "output_type": "execute_result"
    }
   ],
   "source": [
    "df = pd.read_csv('http://data-analytics.zybooks.com/Reaction.csv')\n",
    "df"
   ]
  },
  {
   "cell_type": "code",
   "execution_count": 3,
   "metadata": {
    "colab": {
     "base_uri": "https://localhost:8080/"
    },
    "executionInfo": {
     "elapsed": 10,
     "status": "ok",
     "timestamp": 1678325208504,
     "user": {
      "displayName": "Bryan Weber",
      "userId": "07192968577867878386"
     },
     "user_tz": 300
    },
    "id": "ohASHHh1f-e-",
    "outputId": "b55bdcc4-2123-4db5-f8c7-cf01ce791641"
   },
   "outputs": [
    {
     "name": "stdout",
     "output_type": "stream",
     "text": [
      "LinregressResult(slope=6.000000000000001, intercept=3.9999999999999964, rvalue=0.9728166526882823, pvalue=0.0010983582017795293, stderr=0.7141428428542851, intercept_stderr=3.5227829907617076)\n"
     ]
    }
   ],
   "source": [
    "modelUsingSciPy = st.linregress(df['Drinks'],df['Reaction'])\n",
    "\n",
    "print(modelUsingSciPy)"
   ]
  },
  {
   "cell_type": "markdown",
   "metadata": {
    "id": "oCi1JfSugfQH"
   },
   "source": [
    "This provides a bare-bones regression object. It's fairly ugly, and I simply would not recommend using this particular package for that reason.  I  also note values $< 10^{-10}$ tend to start sinking in to \"machine rounding errors\", you can investigate that as you like.\n",
    "\n",
    "**However**, from a teaching perspective, this function does allow us to ensure that you are aware of what each of the regression components are and where they belong.\n",
    "\n",
    "We should discuss here:\n",
    "\n",
    "*  What is the impact of another drink?\n",
    "*  What is the reaction with no drinks?\n",
    "*  Is the impact significantly different than 0?"
   ]
  },
  {
   "cell_type": "code",
   "execution_count": 4,
   "metadata": {
    "colab": {
     "base_uri": "https://localhost:8080/",
     "height": 279
    },
    "executionInfo": {
     "elapsed": 689,
     "status": "ok",
     "timestamp": 1678325209186,
     "user": {
      "displayName": "Bryan Weber",
      "userId": "07192968577867878386"
     },
     "user_tz": 300
    },
    "id": "XgDD0-tYiG_R",
    "outputId": "a87b705d-ff31-4a94-c980-1a4877b772b3"
   },
   "outputs": [
    {
     "data": {
      "image/png": "[encoded data removed]",
      "text/plain": [
       "<Figure size 640x480 with 1 Axes>"
      ]
     },
     "metadata": {},
     "output_type": "display_data"
    }
   ],
   "source": [
    "scatterBasic = sns.scatterplot(x = df['Drinks'], y = df['Reaction'])"
   ]
  },
  {
   "cell_type": "markdown",
   "metadata": {
    "id": "rquUcn7HkEsp"
   },
   "source": [
    "We should be able to identify the SLOPE of the line, (think the M in y=mx+b) and the intercept, (think the B in y=mx+b)."
   ]
  },
  {
   "cell_type": "code",
   "execution_count": 5,
   "metadata": {
    "colab": {
     "base_uri": "https://localhost:8080/",
     "height": 279
    },
    "executionInfo": {
     "elapsed": 860,
     "status": "ok",
     "timestamp": 1678325225327,
     "user": {
      "displayName": "Bryan Weber",
      "userId": "07192968577867878386"
     },
     "user_tz": 300
    },
    "id": "yo3eLrrujkbR",
    "outputId": "4f0783f3-b480-45cf-ae7e-a4da9bd2d224"
   },
   "outputs": [
    {
     "data": {
      "image/png": "[encoded data removed]",
      "text/plain": [
       "<Figure size 640x480 with 1 Axes>"
      ]
     },
     "metadata": {},
     "output_type": "display_data"
    }
   ],
   "source": [
    "scatterBasic = sns.scatterplot(x = df['Drinks'], y = df['Reaction'])\n",
    "intercept = 3.9999999999999964\n",
    "slope = 6.000000000000001\n",
    "X_plot = np.linspace(0, 8, 5)\n",
    "Y_plot = slope*X_plot+intercept\n",
    "plt.plot(X_plot, Y_plot, color='r')\n",
    "plt.show()"
   ]
  },
  {
   "cell_type": "markdown",
   "metadata": {
    "id": "ZJQfQ9u9mMWf"
   },
   "source": [
    "##### Confidence and Prediction Intervals\n",
    "\n",
    "We should be able to construct the confidence interval for the mean, given the equation.\n",
    "\n",
    "$\\hat{Y} \\pm t_{n-2} s_y \\sqrt{1 + \\frac{1}{n}+\\frac{(x-\\bar{x})^2}{(n-1)s_x^2}}$"
   ]
  },
  {
   "cell_type": "code",
   "execution_count": 13,
   "metadata": {
    "id": "vLnNkEt2mxnE"
   },
   "outputs": [],
   "source": [
    "def buildCI(x, nIn, tIn, stdYIn, stdXIn, xBarIn): #make sure you always use fresh definition terms. Defs should be done immediately after instantiation, but I do it here so you can folow my logic.\n",
    "  out = tIn * stdYIn * math.sqrt( 1/nIn + (x - xBarIn)**2 / ((nIn - 1) * stdYIn**2) )\n",
    "  return(out)\n",
    "\n",
    "vBuildCI = np.vectorize(buildCI)"
   ]
  },
  {
   "cell_type": "code",
   "execution_count": 7,
   "metadata": {
    "colab": {
     "base_uri": "https://localhost:8080/"
    },
    "executionInfo": {
     "elapsed": 94,
     "status": "ok",
     "timestamp": 1678326680992,
     "user": {
      "displayName": "Bryan Weber",
      "userId": "07192968577867878386"
     },
     "user_tz": 300
    },
    "id": "RabwqVAZqHnB",
    "outputId": "07676d1d-7c1c-4670-f7b5-e95fd624c1ff"
   },
   "outputs": [
    {
     "data": {
      "text/plain": [
       "array([21.0596444 , 20.66140517, 20.52694191, 20.66140517, 21.0596444 ])"
      ]
     },
     "execution_count": 7,
     "metadata": {},
     "output_type": "execute_result"
    }
   ],
   "source": [
    "n = 5\n",
    "t_95pct = st.t.ppf(0.95,n-2) #Reverse t-score lookup.\n",
    "stdY = df['Reaction'].std()\n",
    "stdX = df['Drinks'].std()\n",
    "xBar = df['Drinks'].mean()\n",
    "\n",
    "vBuildCI(X_plot, n, t_95pct, stdY, stdX, xBar) #needed so the command that takes 1 \"x\" imput not"
   ]
  },
  {
   "cell_type": "code",
   "execution_count": 8,
   "metadata": {
    "colab": {
     "base_uri": "https://localhost:8080/",
     "height": 282
    },
    "executionInfo": {
     "elapsed": 421,
     "status": "ok",
     "timestamp": 1678326683738,
     "user": {
      "displayName": "Bryan Weber",
      "userId": "07192968577867878386"
     },
     "user_tz": 300
    },
    "id": "qDgNCBQzpKfp",
    "outputId": "8c1abed0-dc89-4992-9c70-dad999b0cc68"
   },
   "outputs": [
    {
     "data": {
      "image/png": "[encoded data removed]",
      "text/plain": [
       "<Figure size 640x480 with 1 Axes>"
      ]
     },
     "metadata": {},
     "output_type": "display_data"
    }
   ],
   "source": [
    "scatterBasic = sns.scatterplot(x = df['Drinks'], y = df['Reaction'])\n",
    "X_plot_detailed = np.linspace(-20, 25, 100)\n",
    "Y_plot = slope*X_plot_detailed+intercept\n",
    "plt.plot(X_plot_detailed, Y_plot, color='r')\n",
    "plt.plot(X_plot_detailed, Y_plot + vBuildCI(X_plot_detailed, n, t_95pct, stdY, stdX, xBar), color='g')\n",
    "plt.plot(X_plot_detailed, Y_plot - vBuildCI(X_plot_detailed, n, t_95pct, stdY, stdX, xBar), color='g')\n",
    "plt.show()"
   ]
  },
  {
   "cell_type": "markdown",
   "metadata": {
    "id": "vLOyd1TRssv0"
   },
   "source": [
    "This confidence interval means the red line: $E(Reaction|Drinks)$ falls within these bounds 95% of the time.\n",
    "\n",
    "If you draw the prediction interval, it looks like this:\n",
    "\n",
    "![CI and PI.png](data:image/png;base64,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)\n",
    "\n",
    "You can guess why I haven't shown you the code for the figure.\n",
    "\n",
    "The formula is: $\\hat{Y} \\pm t_{n-2} s_y \\sqrt{\\frac{1}{n}+\\frac{(x-\\bar{x})^2}{(n-1)s_x^2}}$"
   ]
  },
  {
   "cell_type": "code",
   "execution_count": 9,
   "metadata": {
    "colab": {
     "base_uri": "https://localhost:8080/"
    },
    "executionInfo": {
     "elapsed": 213,
     "status": "ok",
     "timestamp": 1678325259149,
     "user": {
      "displayName": "Bryan Weber",
      "userId": "07192968577867878386"
     },
     "user_tz": 300
    },
    "id": "_MWsTh_-fzAE",
    "outputId": "b1c5162c-2961-411b-aed8-9aa8f9c5c002"
   },
   "outputs": [
    {
     "name": "stdout",
     "output_type": "stream",
     "text": [
      "                            OLS Regression Results                            \n",
      "==============================================================================\n",
      "Dep. Variable:               Reaction   R-squared:                       0.946\n",
      "Model:                            OLS   Adj. R-squared:                  0.933\n",
      "Method:                 Least Squares   F-statistic:                     70.59\n",
      "Date:                Mon, 03 Mar 2025   Prob (F-statistic):            0.00110\n",
      "Time:                        11:17:05   Log-Likelihood:                -17.013\n",
      "No. Observations:                   6   AIC:                             38.03\n",
      "Df Residuals:                       4   BIC:                             37.61\n",
      "Df Model:                           1                                         \n",
      "Covariance Type:            nonrobust                                         \n",
      "==============================================================================\n",
      "                 coef    std err          t      P>|t|      [0.025      0.975]\n",
      "------------------------------------------------------------------------------\n",
      "Intercept      4.0000      3.523      1.135      0.320      -5.781      13.781\n",
      "Drinks         6.0000      0.714      8.402      0.001       4.017       7.983\n",
      "==============================================================================\n",
      "Omnibus:                          nan   Durbin-Watson:                   1.324\n",
      "Prob(Omnibus):                    nan   Jarque-Bera (JB):                0.668\n",
      "Skew:                          -0.613   Prob(JB):                        0.716\n",
      "Kurtosis:                       1.920   Cond. No.                         8.66\n",
      "==============================================================================\n",
      "\n",
      "Notes:\n",
      "[1] Standard Errors assume that the covariance matrix of the errors is correctly specified.\n"
     ]
    },
    {
     "name": "stderr",
     "output_type": "stream",
     "text": [
      "C:\\Users\\Bryan\\anaconda3\\Lib\\site-packages\\statsmodels\\stats\\stattools.py:74: ValueWarning: omni_normtest is not valid with less than 8 observations; 6 samples were given.\n",
      "  warn(\"omni_normtest is not valid with less than 8 observations; %i \"\n"
     ]
    }
   ],
   "source": [
    "model = smf.ols('Reaction ~ Drinks', data = df).fit()\n",
    "\n",
    "print(model.summary())"
   ]
  },
  {
   "cell_type": "markdown",
   "metadata": {
    "id": "Uhom0iVwiq9h"
   },
   "source": [
    "We should discuss here:\n",
    "\n",
    "*  What is the impact of another drink?\n",
    "*  What is the reaction with no drinks?\n",
    "*  Is the impact significantly different than 0?\n",
    "\n",
    "Where do we look to read these items?"
   ]
  },
  {
   "cell_type": "markdown",
   "metadata": {
    "id": "M0QLRkA5f4i4"
   },
   "source": [
    "#### Multiple regression"
   ]
  },
  {
   "cell_type": "code",
   "execution_count": 10,
   "metadata": {
    "colab": {
     "base_uri": "https://localhost:8080/"
    },
    "executionInfo": {
     "elapsed": 105,
     "status": "ok",
     "timestamp": 1678326924261,
     "user": {
      "displayName": "Bryan Weber",
      "userId": "07192968577867878386"
     },
     "user_tz": 300
    },
    "id": "MbmKg_CDf1t9",
    "outputId": "363716ad-696a-4599-9ece-ef74e9e89ec0"
   },
   "outputs": [
    {
     "name": "stdout",
     "output_type": "stream",
     "text": [
      "Final Beta0 and Beta1: [4. 6.]\n"
     ]
    }
   ],
   "source": [
    "X = df['Drinks'].values\n",
    "Y = df['Reaction'].values\n",
    "X = np.vstack((np.ones(len(X)), X)).T #Adding intercept term and transposing. My training typically prefers rows = # of obs and columns = number of B's\n",
    "varMat = np.linalg.inv( X.T.dot(X) ) #Variance matrix\n",
    "covMat = X.T.dot(Y) #Covariance matrix\n",
    "\n",
    "# print(X) #Bug checking. To be deleted on final presentation to client. (Show to students to demonstrate process.)\n",
    "# print(X.T)\n",
    "# print(X.T.dot(X))\n",
    "# print( varMat )\n",
    "# print( covMat )\n",
    "\n",
    "print( \"Final Beta0 and Beta1:\", covMat.dot(varMat) )"
   ]
  },
  {
   "cell_type": "code",
   "execution_count": 11,
   "metadata": {
    "colab": {
     "base_uri": "https://localhost:8080/",
     "height": 424
    },
    "executionInfo": {
     "elapsed": 96,
     "status": "ok",
     "timestamp": 1678326925742,
     "user": {
      "displayName": "Bryan Weber",
      "userId": "07192968577867878386"
     },
     "user_tz": 300
    },
    "id": "eKREBQ9BiEwG",
    "outputId": "d6f07d30-d410-49fb-ace6-5e8b00b0f1e3"
   },
   "outputs": [
    {
     "data": {
      "text/html": [
       "<div>\n",
       "<style scoped>\n",
       "    .dataframe tbody tr th:only-of-type {\n",
       "        vertical-align: middle;\n",
       "    }\n",
       "\n",
       "    .dataframe tbody tr th {\n",
       "        vertical-align: top;\n",
       "    }\n",
       "\n",
       "    .dataframe thead th {\n",
       "        text-align: right;\n",
       "    }\n",
       "</style>\n",
       "<table border=\"1\" class=\"dataframe\">\n",
       "  <thead>\n",
       "    <tr style=\"text-align: right;\">\n",
       "      <th></th>\n",
       "      <th>longitude</th>\n",
       "      <th>latitude</th>\n",
       "      <th>housing_median_age</th>\n",
       "      <th>total_rooms</th>\n",
       "      <th>total_bedrooms</th>\n",
       "      <th>population</th>\n",
       "      <th>households</th>\n",
       "      <th>median_income</th>\n",
       "      <th>median_house_value</th>\n",
       "    </tr>\n",
       "  </thead>\n",
       "  <tbody>\n",
       "    <tr>\n",
       "      <th>0</th>\n",
       "      <td>-114.31</td>\n",
       "      <td>34.19</td>\n",
       "      <td>15.0</td>\n",
       "      <td>5612.0</td>\n",
       "      <td>1283.0</td>\n",
       "      <td>1015.0</td>\n",
       "      <td>472.0</td>\n",
       "      <td>1.4936</td>\n",
       "      <td>66900.0</td>\n",
       "    </tr>\n",
       "    <tr>\n",
       "      <th>1</th>\n",
       "      <td>-114.47</td>\n",
       "      <td>34.40</td>\n",
       "      <td>19.0</td>\n",
       "      <td>7650.0</td>\n",
       "      <td>1901.0</td>\n",
       "      <td>1129.0</td>\n",
       "      <td>463.0</td>\n",
       "      <td>1.8200</td>\n",
       "      <td>80100.0</td>\n",
       "    </tr>\n",
       "    <tr>\n",
       "      <th>2</th>\n",
       "      <td>-114.56</td>\n",
       "      <td>33.69</td>\n",
       "      <td>17.0</td>\n",
       "      <td>720.0</td>\n",
       "      <td>174.0</td>\n",
       "      <td>333.0</td>\n",
       "      <td>117.0</td>\n",
       "      <td>1.6509</td>\n",
       "      <td>85700.0</td>\n",
       "    </tr>\n",
       "    <tr>\n",
       "      <th>3</th>\n",
       "      <td>-114.57</td>\n",
       "      <td>33.64</td>\n",
       "      <td>14.0</td>\n",
       "      <td>1501.0</td>\n",
       "      <td>337.0</td>\n",
       "      <td>515.0</td>\n",
       "      <td>226.0</td>\n",
       "      <td>3.1917</td>\n",
       "      <td>73400.0</td>\n",
       "    </tr>\n",
       "    <tr>\n",
       "      <th>4</th>\n",
       "      <td>-114.57</td>\n",
       "      <td>33.57</td>\n",
       "      <td>20.0</td>\n",
       "      <td>1454.0</td>\n",
       "      <td>326.0</td>\n",
       "      <td>624.0</td>\n",
       "      <td>262.0</td>\n",
       "      <td>1.9250</td>\n",
       "      <td>65500.0</td>\n",
       "    </tr>\n",
       "    <tr>\n",
       "      <th>...</th>\n",
       "      <td>...</td>\n",
       "      <td>...</td>\n",
       "      <td>...</td>\n",
       "      <td>...</td>\n",
       "      <td>...</td>\n",
       "      <td>...</td>\n",
       "      <td>...</td>\n",
       "      <td>...</td>\n",
       "      <td>...</td>\n",
       "    </tr>\n",
       "    <tr>\n",
       "      <th>16995</th>\n",
       "      <td>-124.26</td>\n",
       "      <td>40.58</td>\n",
       "      <td>52.0</td>\n",
       "      <td>2217.0</td>\n",
       "      <td>394.0</td>\n",
       "      <td>907.0</td>\n",
       "      <td>369.0</td>\n",
       "      <td>2.3571</td>\n",
       "      <td>111400.0</td>\n",
       "    </tr>\n",
       "    <tr>\n",
       "      <th>16996</th>\n",
       "      <td>-124.27</td>\n",
       "      <td>40.69</td>\n",
       "      <td>36.0</td>\n",
       "      <td>2349.0</td>\n",
       "      <td>528.0</td>\n",
       "      <td>1194.0</td>\n",
       "      <td>465.0</td>\n",
       "      <td>2.5179</td>\n",
       "      <td>79000.0</td>\n",
       "    </tr>\n",
       "    <tr>\n",
       "      <th>16997</th>\n",
       "      <td>-124.30</td>\n",
       "      <td>41.84</td>\n",
       "      <td>17.0</td>\n",
       "      <td>2677.0</td>\n",
       "      <td>531.0</td>\n",
       "      <td>1244.0</td>\n",
       "      <td>456.0</td>\n",
       "      <td>3.0313</td>\n",
       "      <td>103600.0</td>\n",
       "    </tr>\n",
       "    <tr>\n",
       "      <th>16998</th>\n",
       "      <td>-124.30</td>\n",
       "      <td>41.80</td>\n",
       "      <td>19.0</td>\n",
       "      <td>2672.0</td>\n",
       "      <td>552.0</td>\n",
       "      <td>1298.0</td>\n",
       "      <td>478.0</td>\n",
       "      <td>1.9797</td>\n",
       "      <td>85800.0</td>\n",
       "    </tr>\n",
       "    <tr>\n",
       "      <th>16999</th>\n",
       "      <td>-124.35</td>\n",
       "      <td>40.54</td>\n",
       "      <td>52.0</td>\n",
       "      <td>1820.0</td>\n",
       "      <td>300.0</td>\n",
       "      <td>806.0</td>\n",
       "      <td>270.0</td>\n",
       "      <td>3.0147</td>\n",
       "      <td>94600.0</td>\n",
       "    </tr>\n",
       "  </tbody>\n",
       "</table>\n",
       "<p>17000 rows × 9 columns</p>\n",
       "</div>"
      ],
      "text/plain": [
       "       longitude  latitude  housing_median_age  total_rooms  total_bedrooms  \\\n",
       "0        -114.31     34.19                15.0       5612.0          1283.0   \n",
       "1        -114.47     34.40                19.0       7650.0          1901.0   \n",
       "2        -114.56     33.69                17.0        720.0           174.0   \n",
       "3        -114.57     33.64                14.0       1501.0           337.0   \n",
       "4        -114.57     33.57                20.0       1454.0           326.0   \n",
       "...          ...       ...                 ...          ...             ...   \n",
       "16995    -124.26     40.58                52.0       2217.0           394.0   \n",
       "16996    -124.27     40.69                36.0       2349.0           528.0   \n",
       "16997    -124.30     41.84                17.0       2677.0           531.0   \n",
       "16998    -124.30     41.80                19.0       2672.0           552.0   \n",
       "16999    -124.35     40.54                52.0       1820.0           300.0   \n",
       "\n",
       "       population  households  median_income  median_house_value  \n",
       "0          1015.0       472.0         1.4936             66900.0  \n",
       "1          1129.0       463.0         1.8200             80100.0  \n",
       "2           333.0       117.0         1.6509             85700.0  \n",
       "3           515.0       226.0         3.1917             73400.0  \n",
       "4           624.0       262.0         1.9250             65500.0  \n",
       "...           ...         ...            ...                 ...  \n",
       "16995       907.0       369.0         2.3571            111400.0  \n",
       "16996      1194.0       465.0         2.5179             79000.0  \n",
       "16997      1244.0       456.0         3.0313            103600.0  \n",
       "16998      1298.0       478.0         1.9797             85800.0  \n",
       "16999       806.0       270.0         3.0147             94600.0  \n",
       "\n",
       "[17000 rows x 9 columns]"
      ]
     },
     "execution_count": 11,
     "metadata": {},
     "output_type": "execute_result"
    }
   ],
   "source": [
    "houseDF = pd.read_csv('G:\\My Drive\\Course Info\\Classes\\BDA_301_2025_Spring\\Data\\california_housing_train.csv')\n",
    "houseDF"
   ]
  },
  {
   "cell_type": "code",
   "execution_count": 12,
   "metadata": {
    "colab": {
     "base_uri": "https://localhost:8080/"
    },
    "executionInfo": {
     "elapsed": 77,
     "status": "ok",
     "timestamp": 1678326930672,
     "user": {
      "displayName": "Bryan Weber",
      "userId": "07192968577867878386"
     },
     "user_tz": 300
    },
    "id": "N613VZCnidp9",
    "outputId": "26056aad-2c1a-4fdc-a849-aab2f25e2d19"
   },
   "outputs": [
    {
     "name": "stdout",
     "output_type": "stream",
     "text": [
      "                            OLS Regression Results                            \n",
      "==============================================================================\n",
      "Dep. Variable:     median_house_value   R-squared:                       0.123\n",
      "Model:                            OLS   Adj. R-squared:                  0.123\n",
      "Method:                 Least Squares   F-statistic:                     796.5\n",
      "Date:                Mon, 03 Mar 2025   Prob (F-statistic):               0.00\n",
      "Time:                        11:17:05   Log-Likelihood:            -2.2124e+05\n",
      "No. Observations:               17000   AIC:                         4.425e+05\n",
      "Df Residuals:                   16996   BIC:                         4.425e+05\n",
      "Df Model:                           3                                         \n",
      "Covariance Type:            nonrobust                                         \n",
      "======================================================================================\n",
      "                         coef    std err          t      P>|t|      [0.025      0.975]\n",
      "--------------------------------------------------------------------------------------\n",
      "Intercept           1.432e+05   2763.367     51.833      0.000    1.38e+05    1.49e+05\n",
      "population           -55.6483      1.424    -39.089      0.000     -58.439     -52.858\n",
      "total_rooms           35.7535      0.768     46.564      0.000      34.248      37.259\n",
      "housing_median_age  1717.4336     71.001     24.189      0.000    1578.265    1856.602\n",
      "==============================================================================\n",
      "Omnibus:                     1669.194   Durbin-Watson:                   0.685\n",
      "Prob(Omnibus):                  0.000   Jarque-Bera (JB):             2296.349\n",
      "Skew:                           0.797   Prob(JB):                         0.00\n",
      "Kurtosis:                       3.837   Cond. No.                     1.28e+04\n",
      "==============================================================================\n",
      "\n",
      "Notes:\n",
      "[1] Standard Errors assume that the covariance matrix of the errors is correctly specified.\n",
      "[2] The condition number is large, 1.28e+04. This might indicate that there are\n",
      "strong multicollinearity or other numerical problems.\n"
     ]
    }
   ],
   "source": [
    "modelHouse = smf.ols('median_house_value ~ population + total_rooms + housing_median_age', data = houseDF).fit()\n",
    "\n",
    "print(modelHouse.summary())"
   ]
  },
  {
   "cell_type": "markdown",
   "metadata": {
    "id": "XFKFWqZwX9xZ"
   },
   "source": [
    "Activities:\n",
    "*   For a 60%: Take notes, I expect at least 3 explorations in the code.\n",
    "*   For +15% each:  \n",
    "    *   Create a catagorical variable and include it in the regression. Interpret the result. Hint: Use > < or similiar operators while creating a column.\n",
    "    *   Create an interaction term and include it in the regression. Interpret the result. Hint: Interaction means multiplication.\n",
    "    *   Create the prediction-interval creating function.  Map it and demonstrate you create the same figure as I did. Hint: It is only a single-term change.\n",
    "*   For +10% each (over 100):  \n",
    "    *   Rewrite the confidence-interval function, removing any/all uneeded function arguments (it can be trimmed up quite a bit). Remember never to reuse arguments names that have already been used."
   ]
  },
  {
   "cell_type": "code",
   "execution_count": null,
   "metadata": {
    "id": "PJ6GVgWRjhE1"
   },
   "outputs": [],
   "source": []
  }
 ],
 "metadata": {
  "colab": {
   "authorship_tag": "ABX9TyNEmLNlX9itDg4vWvjfxzp7",
   "provenance": [
    {
     "file_id": "https://github.com/BryanSWeber/BDA301/blob/master/Day%2006%20Lesson.ipynb",
     "timestamp": 1709566165257
    }
   ]
  },
  "kernelspec": {
   "display_name": "Python 3 (ipykernel)",
   "language": "python",
   "name": "python3"
  },
  "language_info": {
   "codemirror_mode": {
    "name": "ipython",
    "version": 3
   },
   "file_extension": ".py",
   "mimetype": "text/x-python",
   "name": "python",
   "nbconvert_exporter": "python",
   "pygments_lexer": "ipython3",
   "version": "3.11.5"
  }
 },
 "nbformat": 4,
 "nbformat_minor": 1
}
