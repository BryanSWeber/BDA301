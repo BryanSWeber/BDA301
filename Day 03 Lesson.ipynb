{
  "nbformat": 4,
  "nbformat_minor": 0,
  "metadata": {
    "colab": {
      "provenance": []
    },
    "kernelspec": {
      "name": "python3",
      "display_name": "Python 3"
    },
    "language_info": {
      "name": "python"
    }
  },
  "cells": [
    {
      "cell_type": "markdown",
      "source": [
        "# Background\n",
        "\n",
        "Please take the survey located\n",
        "[here](https://forms.gle/nHYQbaFh5YD7PkX3A)."
      ],
      "metadata": {
        "id": "nohfM5gNlEhs"
      }
    },
    {
      "cell_type": "markdown",
      "source": [
        "# Import Libraries and Files of Interest\n",
        "\n",
        "Step 1 is to create and prepare everything you need for a project.\n",
        "\n",
        "These should always be in the beginning of a file, making your code [*mise en place*](https://en.wikipedia.org/wiki/Mise_en_place)."
      ],
      "metadata": {
        "id": "uE7kbbUGhcT1"
      }
    },
    {
      "cell_type": "code",
      "source": [
        "import pandas as pd #for managing data\n",
        "import matplotlib.pyplot as plt #for making figures.\n",
        "#import seaborn as sns #Alternate package for making figures"
      ],
      "metadata": {
        "id": "1lXIm4jrmBhj"
      },
      "execution_count": null,
      "outputs": []
    },
    {
      "cell_type": "code",
      "source": [
        "mySurveyData = pd.read_csv('mySurvey.csv')  #loading data into python's internals. Name it something short, clear and concise."
      ],
      "metadata": {
        "id": "3_pdJhrJn3b0"
      },
      "execution_count": null,
      "outputs": []
    },
    {
      "cell_type": "code",
      "source": [
        "mySurveyData.head(2)"
      ],
      "metadata": {
        "colab": {
          "base_uri": "https://localhost:8080/",
          "height": 268
        },
        "id": "QP1XV7jGo-Xw",
        "outputId": "f04b5aab-0c5e-46aa-e1cd-2d70088c4f85"
      },
      "execution_count": null,
      "outputs": [
        {
          "output_type": "execute_result",
          "data": {
            "text/plain": [
              "           Timestamp My expected income immediately after graduation is:  \\\n",
              "0  2/7/2024 16:45:01                                    $40,001-$60,000    \n",
              "1  2/7/2024 16:45:02                                    $60,001-$80,000    \n",
              "\n",
              "  Declared Major (select primary if multiple):  My opinion of New Jersey is:  \\\n",
              "0                          Business Management                             8   \n",
              "1                          Business Management                             5   \n",
              "\n",
              "  Music Preferences (check all that apply) Current Standing Current Height  \\\n",
              "0                                  Hip Hop           Junior            5'9   \n",
              "1                 Hip Hop, Pop, R&B & Soul           Senior           5'10   \n",
              "\n",
              "   On a 1-5 scale, my opinion of baseball is: Gender  \\\n",
              "0                                           3   Male   \n",
              "1                                           2   Male   \n",
              "\n",
              "  Write one sentence (or more) about this image.  \\\n",
              "0                                          Goofy   \n",
              "1                    Dogs are a mans best friend   \n",
              "\n",
              "   In the sequence 2, 3, 5, 7, 11... what is the next number?   \n",
              "0                                               15.0            \n",
              "1                                               15.0            "
            ],
            "text/html": [
              "\n",
              "  <div id=\"df-dd1d68d6-3dce-479e-b2f4-97b9f379ff88\" class=\"colab-df-container\">\n",
              "    <div>\n",
              "<style scoped>\n",
              "    .dataframe tbody tr th:only-of-type {\n",
              "        vertical-align: middle;\n",
              "    }\n",
              "\n",
              "    .dataframe tbody tr th {\n",
              "        vertical-align: top;\n",
              "    }\n",
              "\n",
              "    .dataframe thead th {\n",
              "        text-align: right;\n",
              "    }\n",
              "</style>\n",
              "<table border=\"1\" class=\"dataframe\">\n",
              "  <thead>\n",
              "    <tr style=\"text-align: right;\">\n",
              "      <th></th>\n",
              "      <th>Timestamp</th>\n",
              "      <th>My expected income immediately after graduation is:</th>\n",
              "      <th>Declared Major (select primary if multiple):</th>\n",
              "      <th>My opinion of New Jersey is:</th>\n",
              "      <th>Music Preferences (check all that apply)</th>\n",
              "      <th>Current Standing</th>\n",
              "      <th>Current Height</th>\n",
              "      <th>On a 1-5 scale, my opinion of baseball is:</th>\n",
              "      <th>Gender</th>\n",
              "      <th>Write one sentence (or more) about this image.</th>\n",
              "      <th>In the sequence 2, 3, 5, 7, 11... what is the next number?</th>\n",
              "    </tr>\n",
              "  </thead>\n",
              "  <tbody>\n",
              "    <tr>\n",
              "      <th>0</th>\n",
              "      <td>2/7/2024 16:45:01</td>\n",
              "      <td>$40,001-$60,000</td>\n",
              "      <td>Business Management</td>\n",
              "      <td>8</td>\n",
              "      <td>Hip Hop</td>\n",
              "      <td>Junior</td>\n",
              "      <td>5'9</td>\n",
              "      <td>3</td>\n",
              "      <td>Male</td>\n",
              "      <td>Goofy</td>\n",
              "      <td>15.0</td>\n",
              "    </tr>\n",
              "    <tr>\n",
              "      <th>1</th>\n",
              "      <td>2/7/2024 16:45:02</td>\n",
              "      <td>$60,001-$80,000</td>\n",
              "      <td>Business Management</td>\n",
              "      <td>5</td>\n",
              "      <td>Hip Hop, Pop, R&amp;B &amp; Soul</td>\n",
              "      <td>Senior</td>\n",
              "      <td>5'10</td>\n",
              "      <td>2</td>\n",
              "      <td>Male</td>\n",
              "      <td>Dogs are a mans best friend</td>\n",
              "      <td>15.0</td>\n",
              "    </tr>\n",
              "  </tbody>\n",
              "</table>\n",
              "</div>\n",
              "    <div class=\"colab-df-buttons\">\n",
              "\n",
              "  <div class=\"colab-df-container\">\n",
              "    <button class=\"colab-df-convert\" onclick=\"convertToInteractive('df-dd1d68d6-3dce-479e-b2f4-97b9f379ff88')\"\n",
              "            title=\"Convert this dataframe to an interactive table.\"\n",
              "            style=\"display:none;\">\n",
              "\n",
              "  <svg xmlns=\"http://www.w3.org/2000/svg\" height=\"24px\" viewBox=\"0 -960 960 960\">\n",
              "    <path d=\"M120-120v-720h720v720H120Zm60-500h600v-160H180v160Zm220 220h160v-160H400v160Zm0 220h160v-160H400v160ZM180-400h160v-160H180v160Zm440 0h160v-160H620v160ZM180-180h160v-160H180v160Zm440 0h160v-160H620v160Z\"/>\n",
              "  </svg>\n",
              "    </button>\n",
              "\n",
              "  <style>\n",
              "    .colab-df-container {\n",
              "      display:flex;\n",
              "      gap: 12px;\n",
              "    }\n",
              "\n",
              "    .colab-df-convert {\n",
              "      background-color: #E8F0FE;\n",
              "      border: none;\n",
              "      border-radius: 50%;\n",
              "      cursor: pointer;\n",
              "      display: none;\n",
              "      fill: #1967D2;\n",
              "      height: 32px;\n",
              "      padding: 0 0 0 0;\n",
              "      width: 32px;\n",
              "    }\n",
              "\n",
              "    .colab-df-convert:hover {\n",
              "      background-color: #E2EBFA;\n",
              "      box-shadow: 0px 1px 2px rgba(60, 64, 67, 0.3), 0px 1px 3px 1px rgba(60, 64, 67, 0.15);\n",
              "      fill: #174EA6;\n",
              "    }\n",
              "\n",
              "    .colab-df-buttons div {\n",
              "      margin-bottom: 4px;\n",
              "    }\n",
              "\n",
              "    [theme=dark] .colab-df-convert {\n",
              "      background-color: #3B4455;\n",
              "      fill: #D2E3FC;\n",
              "    }\n",
              "\n",
              "    [theme=dark] .colab-df-convert:hover {\n",
              "      background-color: #434B5C;\n",
              "      box-shadow: 0px 1px 3px 1px rgba(0, 0, 0, 0.15);\n",
              "      filter: drop-shadow(0px 1px 2px rgba(0, 0, 0, 0.3));\n",
              "      fill: #FFFFFF;\n",
              "    }\n",
              "  </style>\n",
              "\n",
              "    <script>\n",
              "      const buttonEl =\n",
              "        document.querySelector('#df-dd1d68d6-3dce-479e-b2f4-97b9f379ff88 button.colab-df-convert');\n",
              "      buttonEl.style.display =\n",
              "        google.colab.kernel.accessAllowed ? 'block' : 'none';\n",
              "\n",
              "      async function convertToInteractive(key) {\n",
              "        const element = document.querySelector('#df-dd1d68d6-3dce-479e-b2f4-97b9f379ff88');\n",
              "        const dataTable =\n",
              "          await google.colab.kernel.invokeFunction('convertToInteractive',\n",
              "                                                    [key], {});\n",
              "        if (!dataTable) return;\n",
              "\n",
              "        const docLinkHtml = 'Like what you see? Visit the ' +\n",
              "          '<a target=\"_blank\" href=https://colab.research.google.com/notebooks/data_table.ipynb>data table notebook</a>'\n",
              "          + ' to learn more about interactive tables.';\n",
              "        element.innerHTML = '';\n",
              "        dataTable['output_type'] = 'display_data';\n",
              "        await google.colab.output.renderOutput(dataTable, element);\n",
              "        const docLink = document.createElement('div');\n",
              "        docLink.innerHTML = docLinkHtml;\n",
              "        element.appendChild(docLink);\n",
              "      }\n",
              "    </script>\n",
              "  </div>\n",
              "\n",
              "\n",
              "<div id=\"df-95068673-62f5-42f5-ac12-641f96e3fa31\">\n",
              "  <button class=\"colab-df-quickchart\" onclick=\"quickchart('df-95068673-62f5-42f5-ac12-641f96e3fa31')\"\n",
              "            title=\"Suggest charts\"\n",
              "            style=\"display:none;\">\n",
              "\n",
              "<svg xmlns=\"http://www.w3.org/2000/svg\" height=\"24px\"viewBox=\"0 0 24 24\"\n",
              "     width=\"24px\">\n",
              "    <g>\n",
              "        <path d=\"M19 3H5c-1.1 0-2 .9-2 2v14c0 1.1.9 2 2 2h14c1.1 0 2-.9 2-2V5c0-1.1-.9-2-2-2zM9 17H7v-7h2v7zm4 0h-2V7h2v10zm4 0h-2v-4h2v4z\"/>\n",
              "    </g>\n",
              "</svg>\n",
              "  </button>\n",
              "\n",
              "<style>\n",
              "  .colab-df-quickchart {\n",
              "      --bg-color: #E8F0FE;\n",
              "      --fill-color: #1967D2;\n",
              "      --hover-bg-color: #E2EBFA;\n",
              "      --hover-fill-color: #174EA6;\n",
              "      --disabled-fill-color: #AAA;\n",
              "      --disabled-bg-color: #DDD;\n",
              "  }\n",
              "\n",
              "  [theme=dark] .colab-df-quickchart {\n",
              "      --bg-color: #3B4455;\n",
              "      --fill-color: #D2E3FC;\n",
              "      --hover-bg-color: #434B5C;\n",
              "      --hover-fill-color: #FFFFFF;\n",
              "      --disabled-bg-color: #3B4455;\n",
              "      --disabled-fill-color: #666;\n",
              "  }\n",
              "\n",
              "  .colab-df-quickchart {\n",
              "    background-color: var(--bg-color);\n",
              "    border: none;\n",
              "    border-radius: 50%;\n",
              "    cursor: pointer;\n",
              "    display: none;\n",
              "    fill: var(--fill-color);\n",
              "    height: 32px;\n",
              "    padding: 0;\n",
              "    width: 32px;\n",
              "  }\n",
              "\n",
              "  .colab-df-quickchart:hover {\n",
              "    background-color: var(--hover-bg-color);\n",
              "    box-shadow: 0 1px 2px rgba(60, 64, 67, 0.3), 0 1px 3px 1px rgba(60, 64, 67, 0.15);\n",
              "    fill: var(--button-hover-fill-color);\n",
              "  }\n",
              "\n",
              "  .colab-df-quickchart-complete:disabled,\n",
              "  .colab-df-quickchart-complete:disabled:hover {\n",
              "    background-color: var(--disabled-bg-color);\n",
              "    fill: var(--disabled-fill-color);\n",
              "    box-shadow: none;\n",
              "  }\n",
              "\n",
              "  .colab-df-spinner {\n",
              "    border: 2px solid var(--fill-color);\n",
              "    border-color: transparent;\n",
              "    border-bottom-color: var(--fill-color);\n",
              "    animation:\n",
              "      spin 1s steps(1) infinite;\n",
              "  }\n",
              "\n",
              "  @keyframes spin {\n",
              "    0% {\n",
              "      border-color: transparent;\n",
              "      border-bottom-color: var(--fill-color);\n",
              "      border-left-color: var(--fill-color);\n",
              "    }\n",
              "    20% {\n",
              "      border-color: transparent;\n",
              "      border-left-color: var(--fill-color);\n",
              "      border-top-color: var(--fill-color);\n",
              "    }\n",
              "    30% {\n",
              "      border-color: transparent;\n",
              "      border-left-color: var(--fill-color);\n",
              "      border-top-color: var(--fill-color);\n",
              "      border-right-color: var(--fill-color);\n",
              "    }\n",
              "    40% {\n",
              "      border-color: transparent;\n",
              "      border-right-color: var(--fill-color);\n",
              "      border-top-color: var(--fill-color);\n",
              "    }\n",
              "    60% {\n",
              "      border-color: transparent;\n",
              "      border-right-color: var(--fill-color);\n",
              "    }\n",
              "    80% {\n",
              "      border-color: transparent;\n",
              "      border-right-color: var(--fill-color);\n",
              "      border-bottom-color: var(--fill-color);\n",
              "    }\n",
              "    90% {\n",
              "      border-color: transparent;\n",
              "      border-bottom-color: var(--fill-color);\n",
              "    }\n",
              "  }\n",
              "</style>\n",
              "\n",
              "  <script>\n",
              "    async function quickchart(key) {\n",
              "      const quickchartButtonEl =\n",
              "        document.querySelector('#' + key + ' button');\n",
              "      quickchartButtonEl.disabled = true;  // To prevent multiple clicks.\n",
              "      quickchartButtonEl.classList.add('colab-df-spinner');\n",
              "      try {\n",
              "        const charts = await google.colab.kernel.invokeFunction(\n",
              "            'suggestCharts', [key], {});\n",
              "      } catch (error) {\n",
              "        console.error('Error during call to suggestCharts:', error);\n",
              "      }\n",
              "      quickchartButtonEl.classList.remove('colab-df-spinner');\n",
              "      quickchartButtonEl.classList.add('colab-df-quickchart-complete');\n",
              "    }\n",
              "    (() => {\n",
              "      let quickchartButtonEl =\n",
              "        document.querySelector('#df-95068673-62f5-42f5-ac12-641f96e3fa31 button');\n",
              "      quickchartButtonEl.style.display =\n",
              "        google.colab.kernel.accessAllowed ? 'block' : 'none';\n",
              "    })();\n",
              "  </script>\n",
              "</div>\n",
              "\n",
              "    </div>\n",
              "  </div>\n"
            ]
          },
          "metadata": {},
          "execution_count": 3
        }
      ]
    },
    {
      "cell_type": "markdown",
      "source": [
        "We have loaded our data, it is in python and it's called mySurveyData."
      ],
      "metadata": {
        "id": "ijF8ba_FxntG"
      }
    },
    {
      "cell_type": "markdown",
      "source": [
        "# Access & Modifying Data Frames\n",
        "\n",
        "We access columns of the data like so:"
      ],
      "metadata": {
        "id": "bHE3DWPYtxuZ"
      }
    },
    {
      "cell_type": "code",
      "source": [
        "mySurveyData['Write one sentence (or more) about this image.']"
      ],
      "metadata": {
        "colab": {
          "base_uri": "https://localhost:8080/"
        },
        "id": "EUOBAqq2wtu9",
        "outputId": "42820814-fd19-4e1c-c504-631a6395a8b2"
      },
      "execution_count": null,
      "outputs": [
        {
          "output_type": "execute_result",
          "data": {
            "text/plain": [
              "0                                                 Goofy\n",
              "1                           Dogs are a mans best friend\n",
              "2                                              good boy\n",
              "3               Very cute dog, good boy, deserves a pet\n",
              "4                                                 funny\n",
              "5                                     The Dog is happy \n",
              "6                                         beautiful dog\n",
              "7                           The dog appears to be happy\n",
              "8     Cute dog, I'm not an expert on dog breeds but ...\n",
              "9                                          beatiful dog\n",
              "10    A golden retriever living life, reminds me of ...\n",
              "11                                I want to pet the dog\n",
              "12          thats a cute dog, even tho i dont like dogs\n",
              "13                                    Such a cute dog. \n",
              "14                                this dog looks happy.\n",
              "15    An adorable dog enjoying the sunlight on a bea...\n",
              "16                         Its a cute picture of a lab.\n",
              "17                                                cute \n",
              "18                                          Mocha Legu \n",
              "19    An adorable dog enjoying the sunlight on a bea...\n",
              "20    It is a golden retriever with its tongue out s...\n",
              "21                                 That dog is perfect.\n",
              "Name: Write one sentence (or more) about this image., dtype: object"
            ]
          },
          "metadata": {},
          "execution_count": 4
        }
      ]
    },
    {
      "cell_type": "markdown",
      "source": [
        "Formatting this output to print the entire string is outside the scope of this class. But you can print individual outputs to read them more carefully.\n",
        "\n",
        "Before that, for ease of use, I would like to edit the names, since they are very long."
      ],
      "metadata": {
        "id": "XG0iXUizwuDP"
      }
    },
    {
      "cell_type": "code",
      "source": [
        "mySurveyData.columns"
      ],
      "metadata": {
        "colab": {
          "base_uri": "https://localhost:8080/"
        },
        "id": "q6LbipBYjsgS",
        "outputId": "1635bc49-3e9b-479e-9d1d-21fe16999d36"
      },
      "execution_count": null,
      "outputs": [
        {
          "output_type": "execute_result",
          "data": {
            "text/plain": [
              "Index(['Timestamp', 'My expected income immediately after graduation is:',\n",
              "       'Declared Major (select primary if multiple):',\n",
              "       'My opinion of New Jersey is:',\n",
              "       'Music Preferences (check all that apply)', 'Current Standing',\n",
              "       'Current Height', 'On a 1-5 scale, my opinion of baseball is:',\n",
              "       'Gender', 'Write one sentence (or more) about this image.',\n",
              "       'In the sequence 2, 3, 5, 7, 11... what is the next number? '],\n",
              "      dtype='object')"
            ]
          },
          "metadata": {},
          "execution_count": 5
        }
      ]
    },
    {
      "cell_type": "code",
      "source": [
        "#Can rename columns by overwriting the value.  Make sure lengths are correct.\n",
        "mySurveyData.columns = ['time', 'income','major','nj','music','standing','height','baseball','gender','dogSentance','sequence']\n",
        "mySurveyData.columns"
      ],
      "metadata": {
        "colab": {
          "base_uri": "https://localhost:8080/"
        },
        "id": "JxH4azvHkM_r",
        "outputId": "9c094d80-cddc-4f11-905d-980c4d33e553"
      },
      "execution_count": null,
      "outputs": [
        {
          "output_type": "execute_result",
          "data": {
            "text/plain": [
              "Index(['time', 'income', 'major', 'nj', 'music', 'standing', 'height',\n",
              "       'baseball', 'gender', 'dogSentance', 'sequence'],\n",
              "      dtype='object')"
            ]
          },
          "metadata": {},
          "execution_count": 6
        }
      ]
    },
    {
      "cell_type": "markdown",
      "source": [
        "Why would I want this? Because regularly I have to type these names and I don't want to **misspel** them [sic]."
      ],
      "metadata": {
        "id": "YNsdjmH4k222"
      }
    },
    {
      "cell_type": "markdown",
      "source": [
        "# Create Histograms.\n",
        "\n",
        "Note: using these titles/sections (via the symbol \"#\") allows the table of contents for navigation.\n",
        "\n",
        "Histograms are meant for displaying quantitatative data along a distribution.\n",
        "\n",
        "Components of a Histogram: Along the x axis, the data is split into bins. Along the y axis, the frequency of which data fell into that bins is listed."
      ],
      "metadata": {
        "id": "eUSG_RGVlmIg"
      }
    },
    {
      "cell_type": "code",
      "source": [
        "plt.hist(mySurveyData['baseball'])  #Creates histogram in python's internals.  Note that column is selected explicitly.\n",
        "plt.title('A Histogram of Student Baseball Opinions') #Creates title.\n",
        "plt.show()  #shows plot. Note without this, nothing will show."
      ],
      "metadata": {
        "colab": {
          "base_uri": "https://localhost:8080/",
          "height": 452
        },
        "id": "kOT9YzZ4ufnJ",
        "outputId": "9ecc4202-bc4a-4f0d-c259-6b34ed22d805"
      },
      "execution_count": null,
      "outputs": [
        {
          "output_type": "display_data",
          "data": {
            "text/plain": [
              "<Figure size 640x480 with 1 Axes>"
            ],
            "image/png": "[encoded data removed]"
          },
          "metadata": {}
        }
      ]
    },
    {
      "cell_type": "markdown",
      "source": [
        "Now it is clear upon inspection how people feel about baseball, etc."
      ],
      "metadata": {
        "id": "nO6ItaMfn-FI"
      }
    },
    {
      "cell_type": "code",
      "source": [
        "plt.hist(mySurveyData['nj'])\n",
        "plt.title('How Do You Feel About New Jersey?')\n",
        "plt.show()"
      ],
      "metadata": {
        "colab": {
          "base_uri": "https://localhost:8080/",
          "height": 452
        },
        "id": "sZDYe9DMvbS4",
        "outputId": "aa6fd3e4-abe3-41ca-99e1-b743990df6fb"
      },
      "execution_count": null,
      "outputs": [
        {
          "output_type": "display_data",
          "data": {
            "text/plain": [
              "<Figure size 640x480 with 1 Axes>"
            ],
            "image/png": "[encoded data removed]"
          },
          "metadata": {}
        }
      ]
    },
    {
      "cell_type": "code",
      "source": [],
      "metadata": {
        "id": "Jo_QSw7E4AtP"
      },
      "execution_count": null,
      "outputs": []
    },
    {
      "cell_type": "markdown",
      "source": [
        "### Exercise:\n",
        "\n",
        "Examine what happens if you do not use the plt.show() command.  There is some \"junk output\" above the image - but it's not totally junk. There are 3 key things output there. Discuss in the text box below what they are/mean.  \n",
        "\n",
        "Hint: They are related to the parts of the figure. Hint 2: See the output of the columns command above."
      ],
      "metadata": {
        "id": "NU10flqKs4YY"
      }
    },
    {
      "cell_type": "code",
      "source": [
        "#Exercize answer goes below."
      ],
      "metadata": {
        "id": "cFR5AcFTtXsz"
      },
      "execution_count": null,
      "outputs": []
    },
    {
      "cell_type": "markdown",
      "source": [
        "# Create Pie Charts\n",
        "\n",
        "Pie charts indicate frequencies also.\n",
        "\n",
        "However, they are for unique, nonquantitative categories on the horizontal axis.\n",
        "\n",
        "A source of great annoyance is that in most textbook examples (Zybooks included), the frequencies are already provided in a convient dataframe. This is extrodinarily uncommon in practice.  So we resolve this as below, first by grouping by some category, then by taking the size:"
      ],
      "metadata": {
        "id": "h3dNmcSupLtb"
      }
    },
    {
      "cell_type": "code",
      "source": [
        "freqIncome = mySurveyData.groupby('income').size() #The groupby command has several options, one of which is size, returning the size of each group.\n",
        "freqIncome #if you don't type it here, it won't display to you. Let's visually see what happens."
      ],
      "metadata": {
        "colab": {
          "base_uri": "https://localhost:8080/"
        },
        "id": "wBjI7I30pQeD",
        "outputId": "808ddc89-980c-4021-c9a2-f7f61dd9cf46"
      },
      "execution_count": null,
      "outputs": [
        {
          "output_type": "execute_result",
          "data": {
            "text/plain": [
              "income\n",
              "$100,000-$120,000    3\n",
              "$40,001-$60,000      6\n",
              "$60,001-$80,000      9\n",
              "$80,001-$100,000     4\n",
              "dtype: int64"
            ]
          },
          "metadata": {},
          "execution_count": 10
        }
      ]
    },
    {
      "cell_type": "code",
      "source": [
        "#Now we can access the components of this grouping.\n",
        "#Critically, you can access the INDEX.\n",
        "freqIncome.index"
      ],
      "metadata": {
        "colab": {
          "base_uri": "https://localhost:8080/"
        },
        "id": "3YwHRLcSqlNK",
        "outputId": "78f9496c-e67d-4f98-88e4-745854404c35"
      },
      "execution_count": null,
      "outputs": [
        {
          "output_type": "execute_result",
          "data": {
            "text/plain": [
              "Index(['$100,000-$120,000', '$40,001-$60,000', '$60,001-$80,000',\n",
              "       '$80,001-$100,000'],\n",
              "      dtype='object', name='income')"
            ]
          },
          "metadata": {},
          "execution_count": 11
        }
      ]
    },
    {
      "cell_type": "code",
      "source": [
        "#You can access the sub-elements individually as well like a normal data frame.\n",
        "freqIncome[1]"
      ],
      "metadata": {
        "colab": {
          "base_uri": "https://localhost:8080/"
        },
        "id": "XAuNXXaMq_Ba",
        "outputId": "bc8a865e-e068-4fb7-8225-21c205dd05be"
      },
      "execution_count": null,
      "outputs": [
        {
          "output_type": "execute_result",
          "data": {
            "text/plain": [
              "6"
            ]
          },
          "metadata": {},
          "execution_count": 12
        }
      ]
    },
    {
      "cell_type": "code",
      "source": [
        "myIncomePie = plt.pie(freqIncome, labels = freqIncome.index)\n",
        "#Each plotting type has idiosyncricies. Pie plots don't have a show method, noticably.\n",
        "#There is *not* a reasonable pattern to this - it is mostly because python is coded by volunteers from the ground up.\n",
        "#Some volunteers have differing opinions, and whatever works, sticks."
      ],
      "metadata": {
        "colab": {
          "base_uri": "https://localhost:8080/",
          "height": 406
        },
        "id": "7255sK5MwLFY",
        "outputId": "0313e38b-87ca-4f9f-fb99-5b694a203e93"
      },
      "execution_count": null,
      "outputs": [
        {
          "output_type": "display_data",
          "data": {
            "text/plain": [
              "<Figure size 640x480 with 1 Axes>"
            ],
            "image/png": "[encoded data removed]"
          },
          "metadata": {}
        }
      ]
    },
    {
      "cell_type": "code",
      "source": [
        "freqGender = mySurveyData.groupby('gender').size()\n",
        "freqGender"
      ],
      "metadata": {
        "id": "aoJAFDek2DFF",
        "colab": {
          "base_uri": "https://localhost:8080/"
        },
        "outputId": "d48e3394-9e8c-4b28-83ba-5bcc9a099007"
      },
      "execution_count": null,
      "outputs": [
        {
          "output_type": "execute_result",
          "data": {
            "text/plain": [
              "gender\n",
              "Female     6\n",
              "Male      16\n",
              "dtype: int64"
            ]
          },
          "metadata": {},
          "execution_count": 14
        }
      ]
    },
    {
      "cell_type": "code",
      "source": [
        "myGenderPie = plt.pie(freqGender, labels = freqGender.index)\n",
        "plt.title('My Gender Pie')\n",
        "plt.show()"
      ],
      "metadata": {
        "colab": {
          "base_uri": "https://localhost:8080/",
          "height": 428
        },
        "id": "4BHa_o7_rv7P",
        "outputId": "63e1440c-9213-4253-ca15-b425581f18d6"
      },
      "execution_count": null,
      "outputs": [
        {
          "output_type": "display_data",
          "data": {
            "text/plain": [
              "<Figure size 640x480 with 1 Axes>"
            ],
            "image/png": "[encoded data removed]"
          },
          "metadata": {}
        }
      ]
    },
    {
      "cell_type": "markdown",
      "source": [
        "### Exercise:\n",
        "\n",
        "Note how I added a title and the show command.\n",
        "\n",
        "Below, create three modifications of the cell above. See what happens if you remove the plot.show() or the plot.title() seperately and in combination.\n",
        "\n",
        "Create a text cell afterwards comparing and contrasting all 3 cells."
      ],
      "metadata": {
        "id": "GrLLEshcsN2j"
      }
    },
    {
      "cell_type": "code",
      "source": [
        "#Exercize answer goes here"
      ],
      "metadata": {
        "id": "ZekIvJ-_r7vq"
      },
      "execution_count": null,
      "outputs": []
    },
    {
      "cell_type": "markdown",
      "source": [
        "# Create Bar Charts\n",
        "\n",
        "Unexpectedly, bar charts are simply **better** than pie charts. Pie charts distort the visualization of areas in an unfortunate way. People over/under estimate various areas."
      ],
      "metadata": {
        "id": "lIOWbQ9wthnd"
      }
    },
    {
      "cell_type": "code",
      "source": [
        "freqMajor = mySurveyData.groupby('major').size()\n",
        "freqMajor"
      ],
      "metadata": {
        "colab": {
          "base_uri": "https://localhost:8080/"
        },
        "id": "J4W_XE5lt7Tl",
        "outputId": "ba3f7b6d-ee7c-4091-a7d4-ca62a1106f76"
      },
      "execution_count": null,
      "outputs": [
        {
          "output_type": "execute_result",
          "data": {
            "text/plain": [
              "major\n",
              "Accounting                        2\n",
              "BUS ADMINISTRATION/ MANAGEMENT    1\n",
              "Business Management               3\n",
              "Business Management               1\n",
              "Economics                         1\n",
              "Finance                           9\n",
              "Management                        1\n",
              "Marketing                         3\n",
              "business                          1\n",
              "dtype: int64"
            ]
          },
          "metadata": {},
          "execution_count": 17
        }
      ]
    },
    {
      "cell_type": "markdown",
      "source": [
        "There are several categories that appear to be spelling errors or variations. In the first attempt at this exercize, \"Business Management\" appears twice. The difference being that one column is \"Business Management \" and the other is \"Business Management\" (without the space).\n",
        "\n",
        "One can correct this in excel before entry (not easily scalable) or with greps (well outside the scope of this class).  It is exceedingly common."
      ],
      "metadata": {
        "id": "1718cEOEvuPe"
      }
    },
    {
      "cell_type": "code",
      "source": [
        "barMajor = plt.bar(freqMajor.index, height = freqMajor) #Note inputs are inverted to pie charts. As I stated earlier, python can be inconsistent.\n",
        "plt.xticks(rotation=90)\n",
        "plt.show()"
      ],
      "metadata": {
        "colab": {
          "base_uri": "https://localhost:8080/",
          "height": 677
        },
        "id": "ox3EHU16uvPu",
        "outputId": "fcf9b44b-3f16-4ad4-ac9f-e05875349ce5"
      },
      "execution_count": null,
      "outputs": [
        {
          "output_type": "display_data",
          "data": {
            "text/plain": [
              "<Figure size 640x480 with 1 Axes>"
            ],
            "image/png": "[encoded data removed]"
          },
          "metadata": {}
        }
      ]
    },
    {
      "cell_type": "markdown",
      "source": [
        "### Exercize:\n",
        "\n",
        "Create a bar chart without rotating the text. Discuss what happens and why it is better to rotate the text."
      ],
      "metadata": {
        "id": "yXaij2w6wVMH"
      }
    },
    {
      "cell_type": "code",
      "source": [],
      "metadata": {
        "id": "9jL0fhAQu7Sp"
      },
      "execution_count": null,
      "outputs": []
    },
    {
      "cell_type": "markdown",
      "source": [
        "# Create Scatter Plots\n",
        "\n",
        "Scatter plots are my favorite type of display, since they show the *relationship* between two types of data."
      ],
      "metadata": {
        "id": "i1ZYKhA7x4BM"
      }
    },
    {
      "cell_type": "code",
      "source": [
        "plotBaseballVnj = plt.scatter(x = mySurveyData['baseball'], y = mySurveyData['nj'])\n",
        "plt.xlabel('Baseball')\n",
        "plt.ylabel('New Jersey')\n",
        "plt.show()"
      ],
      "metadata": {
        "colab": {
          "base_uri": "https://localhost:8080/",
          "height": 449
        },
        "id": "SF0Ci2nLyANA",
        "outputId": "e5da53d5-0c20-4e6d-bc0f-db698b57d030"
      },
      "execution_count": null,
      "outputs": [
        {
          "output_type": "display_data",
          "data": {
            "text/plain": [
              "<Figure size 640x480 with 1 Axes>"
            ],
            "image/png": "[encoded data removed]"
          },
          "metadata": {}
        }
      ]
    },
    {
      "cell_type": "code",
      "source": [
        "plotSequenceVnj = plt.scatter(x = mySurveyData['sequence'], y = mySurveyData['nj'])\n",
        "plt.xlabel('Next Number In Sequence')\n",
        "plt.ylabel('Opinion of NJ')\n",
        "plt.show()"
      ],
      "metadata": {
        "colab": {
          "base_uri": "https://localhost:8080/",
          "height": 449
        },
        "id": "bsVS9mLfyU5H",
        "outputId": "f710a93e-fbea-4ab3-8f82-0867f1813992"
      },
      "execution_count": null,
      "outputs": [
        {
          "output_type": "display_data",
          "data": {
            "text/plain": [
              "<Figure size 640x480 with 1 Axes>"
            ],
            "image/png": "[encoded data removed]"
          },
          "metadata": {}
        }
      ]
    },
    {
      "cell_type": "markdown",
      "source": [
        "\n",
        "You should *always* look at a scatter plot if you are examining a relationship between two things.\n",
        "\n",
        "How often should you create a scatter plot when you are looking at a relationship between two things?  (one word answer is fine).\n"
      ],
      "metadata": {
        "id": "lIiRWprrzSOS"
      }
    },
    {
      "cell_type": "code",
      "source": [
        "#Answer goes here."
      ],
      "metadata": {
        "id": "ZrnGGdEhzi7i"
      },
      "execution_count": null,
      "outputs": []
    },
    {
      "cell_type": "markdown",
      "source": [
        "# Advanced Scatter Plots\n",
        "\n",
        "I will not test you on this, but it is useful for projects and take-home work."
      ],
      "metadata": {
        "id": "m2I-BbyVy8zD"
      }
    },
    {
      "cell_type": "code",
      "source": [
        "import seaborn as sns #Seaborn has several advantages in multiplotting."
      ],
      "metadata": {
        "id": "g0-ztiQs0PIt"
      },
      "execution_count": null,
      "outputs": []
    },
    {
      "cell_type": "code",
      "source": [
        "#note the new command is called scatterplot not scatter.\n",
        "plotSequenceVnjVgender = sns.scatterplot(x = mySurveyData['sequence'], y = mySurveyData['nj'], hue = mySurveyData['gender'])"
      ],
      "metadata": {
        "colab": {
          "base_uri": "https://localhost:8080/",
          "height": 449
        },
        "id": "1p5AL46SzPyE",
        "outputId": "41d75313-d446-4b25-edd4-ea57da0bb9d1"
      },
      "execution_count": null,
      "outputs": [
        {
          "output_type": "display_data",
          "data": {
            "text/plain": [
              "<Figure size 640x480 with 1 Axes>"
            ],
            "image/png": "[encoded data removed]"
          },
          "metadata": {}
        }
      ]
    },
    {
      "cell_type": "code",
      "source": [],
      "metadata": {
        "id": "sYlS-b5_zteg"
      },
      "execution_count": null,
      "outputs": []
    }
  ]
}