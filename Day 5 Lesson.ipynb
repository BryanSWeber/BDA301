{
  "nbformat": 4,
  "nbformat_minor": 0,
  "metadata": {
    "colab": {
      "provenance": []
    },
    "kernelspec": {
      "name": "python3",
      "display_name": "Python 3"
    },
    "language_info": {
      "name": "python"
    }
  },
  "cells": [
    {
      "cell_type": "markdown",
      "source": [
        "# Day 5\n",
        "\n",
        "\n",
        "So today we will be discussing confidence intervals and hypothesis testing.\n",
        "This will be primarily demonstration."
      ],
      "metadata": {
        "id": "D65IcNB_6i2G"
      }
    },
    {
      "cell_type": "code",
      "source": [
        "import pandas as pd\n",
        "import numpy as np\n",
        "import math\n",
        "from numpy import random\n",
        "import scipy.stats as st\n",
        "import seaborn as sns"
      ],
      "metadata": {
        "id": "2t9o0pwm89ud"
      },
      "execution_count": null,
      "outputs": []
    },
    {
      "cell_type": "markdown",
      "source": [
        "### Hypothesis Testing Intuition\n",
        "\n",
        "Let us suppose I drew a card from a standard 52 card deck, and got the $A♠$. \n",
        "\n",
        "Would you believe me?\n",
        "\n",
        "What if I said I shuffled it again and got the $A♠$ again?\n",
        "\n",
        "How many times, maximum, would you belive me?\n",
        "\n",
        "The first time, the probability of $P(A♠) = \\frac{1}{52}$\n",
        "\n",
        "The second time $P(A♠,A♠) = \\frac{1}{52}^2$\n",
        "\n",
        "The third time $P(A♠,A♠,A♠) = \\frac{1}{52}^3$"
      ],
      "metadata": {
        "id": "wPweYHbIOUc4"
      }
    },
    {
      "cell_type": "code",
      "source": [
        "print('The class\\'s critical p-value is somewhere around:', (1/52)**1, \"and \", (1/52)**3)"
      ],
      "metadata": {
        "colab": {
          "base_uri": "https://localhost:8080/"
        },
        "id": "bELNdUmgPQ_X",
        "outputId": "095ff00c-c824-4781-c5d5-28615f153fa0"
      },
      "execution_count": null,
      "outputs": [
        {
          "output_type": "stream",
          "name": "stdout",
          "text": [
            "The class's critical p-value is somewhere around: 0.019230769230769232 and  7.11197086936732e-06\n"
          ]
        }
      ]
    },
    {
      "cell_type": "markdown",
      "source": [
        "Typically, if the probability of an event is <10% we believe something is off.\n",
        "\n",
        "Some people use 5% or 1%, but the this level is called a p-value."
      ],
      "metadata": {
        "id": "_js2WUqdQZ_z"
      }
    },
    {
      "cell_type": "markdown",
      "source": [
        "The terms are as follows:\n",
        "\n",
        "    H0: I have gotten A♠ each time.\n",
        "    HA: I have not gotten A♠ each time.\n",
        "\n",
        "Critical value - the level of improbability that needs to be passed before you begin disbeliving me. In our case, it was very small, but decks of cards are blunt instruments."
      ],
      "metadata": {
        "id": "hPyQy4azQC2C"
      }
    },
    {
      "cell_type": "markdown",
      "source": [
        "## Single Point Comparisions\n",
        "\n",
        "So let's begin by imagining that we have a single point 10. Our opponents believe that this 10 was drawn from a normal distribution with mean 4 and sd 5.\n",
        "\n",
        "    H0: The 10 was drawn from a distribution with mean 4 and sd 10.\n",
        "    HA: The 10 was not drawn from that distribution.\n",
        "\n",
        "*Note the opponent is always H0, what everyone else believes, the default belief. Researchers are always fighting the norm, there is no research to validate existing beliefs.*\n",
        "\n",
        "That gives:\n",
        "\n",
        "$z = \\frac{10-H_0}{\\sigma}$\n",
        "\n",
        "$z = \\frac{10-4}{5}$\n",
        "\n",
        "$z= 1.2$\n",
        "\n",
        "That means in a *standard normal distribution* like the one shown below:"
      ],
      "metadata": {
        "id": "dRujFGjNN7Wx"
      }
    },
    {
      "cell_type": "code",
      "source": [
        "stdNormData = random.normal(0, 1, 10000)\n",
        "outside = (stdNormData >= 1.2) | (stdNormData <= -1.2)  #Uses OR operator, the pipe.  Needs parentheses around both sides.\n",
        "stdNorm = sns.histplot(x = stdNormData, hue= outside, multiple=\"stack\") #You should explain what the stacked does."
      ],
      "metadata": {
        "colab": {
          "base_uri": "https://localhost:8080/",
          "height": 265
        },
        "id": "5WNQNC0pQzuA",
        "outputId": "884fde4b-a76c-43d8-9dbe-a5600f4318a5"
      },
      "execution_count": null,
      "outputs": [
        {
          "output_type": "display_data",
          "data": {
            "text/plain": [
              "<Figure size 432x288 with 1 Axes>"
            ],
            "image/png": "[encoded data removed]"
          },
          "metadata": {
            "needs_background": "light"
          }
        }
      ]
    },
    {
      "cell_type": "code",
      "source": [
        "print(\"pct of time result could be expected to be further away from H0 than 10:\", sum(outside)/len(stdNormData) * 100)"
      ],
      "metadata": {
        "colab": {
          "base_uri": "https://localhost:8080/"
        },
        "id": "WurD5bSYSEAO",
        "outputId": "3265e897-15f8-4187-cc8d-5e2a4ed948e0"
      },
      "execution_count": null,
      "outputs": [
        {
          "output_type": "stream",
          "name": "stdout",
          "text": [
            "pct of time result could be expected to be further away from H0 than 10: 22.900000000000002\n"
          ]
        }
      ]
    },
    {
      "cell_type": "code",
      "source": [
        "print(\"If we set N to infinity, this probability will be: \", 2*st.norm.cdf(-1.2))\n",
        "#Why did I use 2? -1.2?  Explain here, in your notes, now."
      ],
      "metadata": {
        "colab": {
          "base_uri": "https://localhost:8080/"
        },
        "id": "1r_v98VlZtd_",
        "outputId": "243e3060-6013-4f33-b4b8-645b82c411ef"
      },
      "execution_count": null,
      "outputs": [
        {
          "output_type": "stream",
          "name": "stdout",
          "text": [
            "If we set N to infinity, this probability will be:  0.23013934044341644\n"
          ]
        }
      ]
    },
    {
      "cell_type": "markdown",
      "source": [
        "So if this was a deck of cards, who would be we believe?\n",
        "\n",
        "    H0: The 10 was drawn from a distribution with mean 4 and sd 10.\n",
        "    HA: The 10 was not drawn from that distribution.\n",
        "\n",
        "Most of you think it is totally possible/probable that H0 is right. \n",
        "\n",
        "If we believe H0, we say we \"fail to reject the null.\"\n",
        "\n",
        "If we disbelieve H0, we say we \"reject the null.\"\n",
        "\n",
        "Typically, if the probability of an event is <10% we reject the null.\n",
        "\n",
        "Some people use 5% or 1%, but the this level is called a p-value."
      ],
      "metadata": {
        "id": "KcqCp5SMS2Lp"
      }
    },
    {
      "cell_type": "markdown",
      "source": [
        "## Unknown Mean, Known Variance."
      ],
      "metadata": {
        "id": "j828fEj4NBmC"
      }
    },
    {
      "cell_type": "code",
      "source": [
        "normalData = pd.DataFrame(index=range(0,4000), columns=['data','distribution'])\n",
        "normalData = normalData.fillna(0)\n",
        "\n",
        "normalData.loc[0:999,'data']     = random.normal(0, 1, 1000)  #think about what the .loc argument does.\n",
        "normalData.loc[1000:1999,'data'] = random.normal(0, 3, 1000) #mean = 0, sd = 3, number of draws.\n",
        "normalData.loc[2000:2999,'data'] = random.normal(-4, 1, 1000)\n",
        "normalData.loc[3000:3999,'data'] = random.normal(5, 0.5, 1000)\n",
        "\n",
        "normalData.loc[0:999,'distribution']     = 'a'\n",
        "normalData.loc[1000:1999,'distribution'] = 'b'\n",
        "normalData.loc[2000:2999,'distribution'] = 'c'\n",
        "normalData.loc[3000:3999,'distribution'] = 'd'\n",
        "\n",
        "normalHist = sns.histplot(x = normalData['data'], hue = normalData['distribution']) "
      ],
      "metadata": {
        "colab": {
          "base_uri": "https://localhost:8080/",
          "height": 279
        },
        "id": "4kmwHLtV9B3d",
        "outputId": "e898e76a-33d2-4a11-99dc-a05182f51d5c"
      },
      "execution_count": null,
      "outputs": [
        {
          "output_type": "display_data",
          "data": {
            "text/plain": [
              "<Figure size 432x288 with 1 Axes>"
            ],
            "image/png": "[encoded data removed]"
          },
          "metadata": {
            "needs_background": "light"
          }
        }
      ]
    },
    {
      "cell_type": "markdown",
      "source": [
        "Now, it is clear from last week that we have 4 different distributions here.   How can we PROVE one is substantively different than 0?\n",
        "\n",
        "Assume your opponent is obstinant and visual inspection is insufficient.\n",
        "\n",
        "Assume, for the moment, we are not allowed to peek at any information."
      ],
      "metadata": {
        "id": "rVgM_oeCAaMQ"
      }
    },
    {
      "cell_type": "code",
      "source": [
        "#This is called SUBSETTING. Refer to Ch1 activities.\n",
        "meanD =  normalData.loc[normalData['distribution'] == 'd','data'].mean()\n",
        "sdD =  normalData.loc[normalData['distribution'] == 'd','data'].std()\n",
        "print(\"Data set D has a sample mean of:\", meanD, \"and SD of: \", sdD)"
      ],
      "metadata": {
        "colab": {
          "base_uri": "https://localhost:8080/"
        },
        "id": "zycyfjNMNOHN",
        "outputId": "15a4869d-635a-41ba-9dea-1c6b9ec2e891"
      },
      "execution_count": null,
      "outputs": [
        {
          "output_type": "stream",
          "name": "stdout",
          "text": [
            "Data set D has a sample mean of: 5.014682499116059 and SD of:  0.4927038540719519\n"
          ]
        }
      ]
    },
    {
      "cell_type": "markdown",
      "source": [
        "Let's start with Data Set A (you will do your own afterwards!):\n",
        "\n",
        "    H0: Distribution A has a mean 0.\n",
        "    HA: Distribution A does not have a mean 0.\n",
        "\n",
        "\n",
        "Now that we don't know $\\sigma$, we have to estimate. But \n",
        "\n",
        "1.   Our estimates of $\\bar{x}, s_x$ aren't as good as knowing the real $\\mu, \\sigma$.\n",
        "2.   Our estimates depend on how much data we have. More data, less variation in our sample average. Specifically, the **standard error** (*the SD of our sample average*) follows $\\frac{s}{\\sqrt{N}}$\n",
        "\n",
        "So we can slap these two together, this estimate is called a t-score:\n",
        "\n",
        "$t_{N-1} = \\frac{\\bar{x}-H_0}{Std. Error}$\n",
        "\n",
        "Notice how the above has the same essential shape as the z-score, then we substitute our estimate of the standard error of $\\bar{x}$\n",
        "\n",
        "$t_{N-1} = \\frac{\\bar{x}-H_0}{\\frac{s}{\\sqrt{N}}}$\n",
        "\n",
        "\n",
        "For those who are astute, you might notice that $H_0$ is the only item that cannot change if we re-drew data.\n",
        "\n",
        "$t_{N-1} \\approx \\frac{-0.02177- 0}{\\frac{0.98446}{\\sqrt{1000}}}$\n",
        "\n",
        "$t_{N-1} \\approx \\frac{-0.02177}{0.03113}$\n",
        "\n",
        "$t_{N-1} \\approx -0.69932$"
      ],
      "metadata": {
        "id": "NFWIGcG0ZbsM"
      }
    },
    {
      "cell_type": "markdown",
      "source": [
        "You might think to yourself... but why do we need that sqrt? What if we just... didn't? "
      ],
      "metadata": {
        "id": "D4JS81xliL0r"
      }
    },
    {
      "cell_type": "code",
      "source": [
        "numberOfTests = 10000\n",
        "numberOfSamplesInTest = 50  #smaller than before but test is very slow if we do 1k.\n",
        "naieveTest_t = pd.DataFrame(index=range(0,numberOfTests), columns=['data','distribution'])\n",
        "for i in range(0, numberOfTests//2):  # The // command does int division, advanced.\n",
        "  sample = random.normal(0, 1, numberOfSamplesInTest)\n",
        "  naieveTest_t.loc[i] = sample.mean()/sample.std() #std of a single point\n",
        "  naieveTest_t.loc[i+numberOfTests//2] = sample.mean()/(sample.std()/math.sqrt(numberOfSamplesInTest)) #Standard deviation of sample average.\n",
        "\n",
        "naieveTest_t.loc[(naieveTest_t.index >= numberOfTests//2),'distribution'] = 'correct'\n",
        "naieveTest_t.loc[(naieveTest_t.index < numberOfTests//2),'distribution'] = 'naieve'\n",
        "\n",
        "naieveTestPlot = sns.histplot(x = naieveTest_t['data'], hue = naieveTest_t['distribution'])"
      ],
      "metadata": {
        "colab": {
          "base_uri": "https://localhost:8080/",
          "height": 279
        },
        "id": "DWF-GX3PbPRl",
        "outputId": "4b262648-ff06-490b-d9e5-b20ff6252212"
      },
      "execution_count": null,
      "outputs": [
        {
          "output_type": "display_data",
          "data": {
            "text/plain": [
              "<Figure size 432x288 with 1 Axes>"
            ],
            "image/png": "[encoded data removed]"
          },
          "metadata": {
            "needs_background": "light"
          }
        }
      ]
    },
    {
      "cell_type": "markdown",
      "source": [
        "Oh my... the t-tests are VERY underpowered if we forget to divide by N!\n",
        "\n",
        "The naieve estimate imagines the sample average could hop around as much as a single point does. The sample average tends to be pretty conistent over time (relative to one point), so this means the sample average hardly every ticks anything interesting happening in the t-score.  The naieve t-score then is pretty much always the same.\n",
        "\n",
        "The improved standard errors recognize that the sample mean will move very little if sample sizes are big.  So if a sample mean gets a big number, then it better reflects that difference.\n",
        "\n",
        "\n",
        "But what does this t test look like?  We actually have to feed it 2 pieces of information, the t-value, and the **degrees of freedom**."
      ],
      "metadata": {
        "id": "QR4Tu7gRlBCl"
      }
    },
    {
      "cell_type": "code",
      "source": [
        "2*st.t.cdf(-0.69932, (1000-1)) #This is that N-1 subscript, remember why we are doing 2x"
      ],
      "metadata": {
        "colab": {
          "base_uri": "https://localhost:8080/"
        },
        "id": "cwBbt69DmWXz",
        "outputId": "aa1060b1-66aa-4418-b4fc-bb3120634d4b"
      },
      "execution_count": null,
      "outputs": [
        {
          "output_type": "execute_result",
          "data": {
            "text/plain": [
              "0.4845148584985277"
            ]
          },
          "metadata": {},
          "execution_count": 9
        }
      ]
    },
    {
      "cell_type": "markdown",
      "source": [
        "So about 48% of the time we would expect to see a result further away from 0 than our observed result.\n",
        "\n",
        "This means we are not ready to reject the null under our p-value of 0.05%\n",
        "\n",
        "    H0: Distribution A has a mean 0.\n",
        "    HA: Distribution A does not have a mean 0.\n",
        "\n",
        "We cannot disagree with the idea that distribution A has a mean 0."
      ],
      "metadata": {
        "id": "9vwgkeFvP_zD"
      }
    },
    {
      "cell_type": "markdown",
      "source": [
        "## Comparing the Means Of Distributions\n",
        "\n",
        "The previous things checked if things were equal to a specific number. What if we have a distribution and we want to see if it's equal to another distribution (at least in terms of means?)\n",
        "\n",
        "In which case, we need to exploit the fact that variances add.\n",
        "\n",
        "The structure of our test will remain the same:\n",
        "\n",
        "$t_{?} \\approx \\frac{\\bar{x}-\\bar{y}}{Measure Of Distance} = \\frac{\\bar{x}-\\bar{y}}{\\sqrt{SE^2_x + SE^2_y}} = \\frac{\\bar{x}-\\bar{y}}{\\sqrt{\\frac{s_x^2}{n_x} + \\frac{s_y^2}{n_y}}}$\n",
        "\n",
        "The degrees of freedom for this, marked as $?$, [is not immediately intuitive, however](https://www.itl.nist.gov/div898/handbook/eda/section3/eda353.htm).\n",
        "\n",
        "$\\frac{ \\frac{s_x^2}{n_x} + \\frac{s_y^2}{n_y}}{\\frac{(\\frac{s_x^2}{n_x})^2}{n_x-1} + \\frac{(\\frac{s_y^2}{n_y})^2}{n_y-1}}$\n",
        "\n",
        "But instead of that, [you can typically can just use the smaller of](http://www.stat.yale.edu/Courses/1997-98/101/meancomp.htm) $n_x-1$ or $n_y-1$."
      ],
      "metadata": {
        "id": "B3PKPq46VVnp"
      }
    },
    {
      "cell_type": "markdown",
      "source": [
        "## Calculating Confidence Intervals\n",
        "\n",
        "We've actually went through the heart of calculated CI's earlier.  Let's refresh on what we did (with a minor change of 1.96 instead of 1.2)"
      ],
      "metadata": {
        "id": "-bJz9S_oHE2z"
      }
    },
    {
      "cell_type": "code",
      "source": [
        "stdNormData = random.normal(0, 1, 10000)\n",
        "outside = (stdNormData >= 1.96) | (stdNormData <= -1.96)  #Uses OR operator, the pipe.  Needs parentheses around both sides.\n",
        "stdNorm = sns.histplot(x = stdNormData, hue= outside, multiple=\"stack\") #You should explain what the stacked does."
      ],
      "metadata": {
        "colab": {
          "base_uri": "https://localhost:8080/",
          "height": 265
        },
        "id": "cVFIOHR4HED5",
        "outputId": "7b815a94-218e-4405-dc24-708171b801e3"
      },
      "execution_count": null,
      "outputs": [
        {
          "output_type": "display_data",
          "data": {
            "text/plain": [
              "<Figure size 432x288 with 1 Axes>"
            ],
            "image/png": "[encoded data removed]"
          },
          "metadata": {
            "needs_background": "light"
          }
        }
      ]
    },
    {
      "cell_type": "code",
      "source": [
        "print(\"pct of time result could be expected to be further away from H0 than 10:\", sum(outside)/len(stdNormData) * 100)"
      ],
      "metadata": {
        "colab": {
          "base_uri": "https://localhost:8080/"
        },
        "id": "JJrNk2yHH7jX",
        "outputId": "be1b3f33-daca-49a6-c116-1128810ecc3e"
      },
      "execution_count": null,
      "outputs": [
        {
          "output_type": "stream",
          "name": "stdout",
          "text": [
            "pct of time result could be expected to be further away from H0 than 10: 4.81\n"
          ]
        }
      ]
    },
    {
      "cell_type": "code",
      "source": [
        "print(\"If we set N to infinity, this probability will be: \", 2*st.norm.cdf(-1.96))\n"
      ],
      "metadata": {
        "colab": {
          "base_uri": "https://localhost:8080/"
        },
        "id": "RBY1VXaGH_rK",
        "outputId": "d91657af-a923-46a5-aa29-0969cf580822"
      },
      "execution_count": null,
      "outputs": [
        {
          "output_type": "stream",
          "name": "stdout",
          "text": [
            "If we set N to infinity, this probability will be:  0.04999579029644087\n"
          ]
        }
      ]
    },
    {
      "cell_type": "markdown",
      "source": [
        "So the there is some z-value $(\\pm 1.96)$ that demarkates 95% of the data being inside of it. If I have a data point that tends to vary, I'd like to have the same confidence that my data will fall within a particular interval, thus, a CI.\n",
        "\n",
        "We know from above demonstration that 5% of the data tends to fall OUTSIDE"
      ],
      "metadata": {
        "id": "O0uJBdxMHv7c"
      }
    },
    {
      "cell_type": "code",
      "source": [],
      "metadata": {
        "id": "rgZKN7oMIhNU"
      },
      "execution_count": null,
      "outputs": []
    },
    {
      "cell_type": "markdown",
      "source": [
        "#Exercizes: \n",
        "\n",
        "Complete 3 of the 5 exercizes.\n",
        "\n",
        "1) Show me your additional notes in the code above you made as we went through it. Should be **BOLDED**, so I know it's new.\n",
        "\n",
        "2) Tim claims he flipped 7 heads in a row on a fair coin. Do you believe him? Why? What p-value will you use to make your determination? What's your H0 and HA?\n",
        "\n",
        "3,4,5) Perform a t-test for data sets B, C and D.  Confirm if B is significantly different than 0, C is significantly different than -1, and D is significantly different than 3. Use a p-value of 5%.\n",
        "\n",
        "6) Check if A is different than B.\n",
        "\n",
        "+100 points - Write a function that performs a z-test when given the input: observed measure, H0, p-value, and standard deviation. "
      ],
      "metadata": {
        "id": "RrTTrbwlP06f"
      }
    },
    {
      "cell_type": "markdown",
      "source": [
        "# Clever Loops\n"
      ],
      "metadata": {
        "id": "a7h771_JSDPi"
      }
    },
    {
      "cell_type": "code",
      "source": [
        "#Coding expansion, great uses for for-loops:\n",
        "for i in ['a','b','c','d']:\n",
        "  meanI =  normalData.loc[normalData['distribution'] == i,'data'].mean()\n",
        "  sdI =  normalData.loc[normalData['distribution'] == i,'data'].std()\n",
        "  print(\"Data set \", i, \" has a sample mean of:\", meanI, \"and SD of: \", sdI)"
      ],
      "metadata": {
        "colab": {
          "base_uri": "https://localhost:8080/"
        },
        "id": "5du6TXdNSIFz",
        "outputId": "54f6b880-d527-40de-920c-fd303eae2c88"
      },
      "execution_count": null,
      "outputs": [
        {
          "output_type": "stream",
          "name": "stdout",
          "text": [
            "Data set  a  has a sample mean of: 0.04461310468147025 and SD of:  1.0102217556843436\n",
            "Data set  b  has a sample mean of: -0.04342211878539852 and SD of:  2.946767992258891\n",
            "Data set  c  has a sample mean of: -4.024833731408311 and SD of:  0.9962645838664933\n",
            "Data set  d  has a sample mean of: 5.014682499116059 and SD of:  0.4927038540719519\n"
          ]
        }
      ]
    }
  ]
}