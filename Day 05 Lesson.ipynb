{
 "cells": [
  {
   "cell_type": "markdown",
   "metadata": {
    "id": "D65IcNB_6i2G"
   },
   "source": [
    "# Day 5\n",
    "\n",
    "\n",
    "So today we will be discussing confidence intervals and hypothesis testing.\n",
    "This will be primarily demonstration."
   ]
  },
  {
   "cell_type": "code",
   "execution_count": 1,
   "metadata": {
    "id": "2t9o0pwm89ud"
   },
   "outputs": [],
   "source": [
    "import pandas as pd\n",
    "import numpy as np\n",
    "import math\n",
    "from numpy import random\n",
    "import scipy.stats as st\n",
    "import seaborn as sns\n",
    "np.random.seed(42)"
   ]
  },
  {
   "cell_type": "markdown",
   "metadata": {
    "id": "wPweYHbIOUc4"
   },
   "source": [
    "### Hypothesis Testing Intuition\n",
    "\n",
    "Let us suppose I drew a card from a standard 52 card deck, and got the $A♠$. \n",
    "\n",
    "Would you believe me?\n",
    "\n",
    "What if I said I shuffled it again and got the $A♠$ again?\n",
    "\n",
    "How many times, maximum, would you belive me?\n",
    "\n",
    "The first time, the probability of $P(A♠) = \\frac{1}{52}$\n",
    "\n",
    "The second time $P(A♠,A♠) = \\frac{1}{52}^2$\n",
    "\n",
    "The third time $P(A♠,A♠,A♠) = \\frac{1}{52}^3$"
   ]
  },
  {
   "cell_type": "code",
   "execution_count": 2,
   "metadata": {
    "colab": {
     "base_uri": "https://localhost:8080/"
    },
    "executionInfo": {
     "elapsed": 159,
     "status": "ok",
     "timestamp": 1677719600244,
     "user": {
      "displayName": "Bryan Weber",
      "userId": "07192968577867878386"
     },
     "user_tz": 300
    },
    "id": "bELNdUmgPQ_X",
    "outputId": "095ff00c-c824-4781-c5d5-28615f153fa0"
   },
   "outputs": [
    {
     "name": "stdout",
     "output_type": "stream",
     "text": [
      "The class's natural critical p-value is somewhere around: 0.019230769230769232 and  7.11197086936732e-06\n"
     ]
    }
   ],
   "source": [
    "print('The class\\'s natural critical p-value is somewhere around:', (1/52)**1, \"and \", (1/52)**3)"
   ]
  },
  {
   "cell_type": "markdown",
   "metadata": {
    "id": "_js2WUqdQZ_z"
   },
   "source": [
    "When I do this for in-class exercizes I have found with great regularity that students tend to stop trusting when the probability of an event goes below about 5-6%.\n",
    "\n",
    "Typically in social sciences we use values of 10%, 5%, or 1% as critical p-values."
   ]
  },
  {
   "cell_type": "markdown",
   "metadata": {
    "id": "hPyQy4azQC2C"
   },
   "source": [
    "One way to describe the thought process above is to break the concepts into a NULL hypothesis (H0) or ALTERNATIVE hypothesis (HA):\n",
    "\n",
    "    H0: I have gotten A♠ each time.\n",
    "    HA: I have not gotten A♠ each time.\n",
    "\n",
    "Critical value - the level of improbability that needs to be passed before you begin disbeliving me. In our case, it was very small, but decks of cards are blunt instruments."
   ]
  },
  {
   "cell_type": "markdown",
   "metadata": {
    "id": "dRujFGjNN7Wx"
   },
   "source": [
    "## Comparing Values To Distributions: Known Variance\n",
    "\n",
    "So let's begin by imagining that we have a single point 10. Our opponents believe that this 10 was drawn from a normal distribution with mean 4 and sd 5.\n",
    "\n",
    "    H0: The 10 was drawn from a distribution with mean 4 and sd 10.\n",
    "    HA: The 10 was not drawn from that distribution.\n",
    "\n",
    "*Note the opponent is always H0, what everyone else believes, the default belief. Researchers are always fighting the norm, there is no research to validate existing beliefs.*\n",
    "\n",
    "We can restructure the above argument, given a mean and standard deviation, into a z-score that has some probability of being exceded.\n",
    "\n",
    "$z = \\frac{10-H_0}{\\sigma}$\n",
    "\n",
    "$z = \\frac{10-4}{5}$\n",
    "\n",
    "$z= 1.2$\n",
    "\n",
    "That means in a *standard normal distribution* like the one shown below:"
   ]
  },
  {
   "cell_type": "code",
   "execution_count": 3,
   "metadata": {
    "colab": {
     "base_uri": "https://localhost:8080/",
     "height": 265
    },
    "executionInfo": {
     "elapsed": 1594,
     "status": "ok",
     "timestamp": 1677706791591,
     "user": {
      "displayName": "Bryan Weber",
      "userId": "07192968577867878386"
     },
     "user_tz": 300
    },
    "id": "5WNQNC0pQzuA",
    "outputId": "884fde4b-a76c-43d8-9dbe-a5600f4318a5"
   },
   "outputs": [
    {
     "data": {
      "image/png": "[encoded data removed]",
      "text/plain": [
       "<Figure size 640x480 with 1 Axes>"
      ]
     },
     "metadata": {},
     "output_type": "display_data"
    }
   ],
   "source": [
    "stdNormData = random.normal(0, 1, 10000)\n",
    "outside = (stdNormData >= 1.2) | (stdNormData <= -1.2)  #Uses OR operator, the pipe.  Needs parentheses around both sides.\n",
    "stdNorm = sns.histplot(x = stdNormData, hue= outside, multiple=\"stack\") #You should explain what the stacked does."
   ]
  },
  {
   "cell_type": "code",
   "execution_count": 4,
   "metadata": {
    "colab": {
     "base_uri": "https://localhost:8080/"
    },
    "executionInfo": {
     "elapsed": 9,
     "status": "ok",
     "timestamp": 1677706753532,
     "user": {
      "displayName": "Bryan Weber",
      "userId": "07192968577867878386"
     },
     "user_tz": 300
    },
    "id": "WurD5bSYSEAO",
    "outputId": "3265e897-15f8-4187-cc8d-5e2a4ed948e0"
   },
   "outputs": [
    {
     "name": "stdout",
     "output_type": "stream",
     "text": [
      "Probability that result might be expected to be further away from H0 than 10: 0.2295  or  22.95 %\n"
     ]
    }
   ],
   "source": [
    "print(\"Probability that result might be expected to be further away from H0 than 10:\", sum(outside)/len(stdNormData), \" or \", sum(outside)/len(stdNormData)*100, \"%\")"
   ]
  },
  {
   "cell_type": "code",
   "execution_count": 5,
   "metadata": {
    "colab": {
     "base_uri": "https://localhost:8080/"
    },
    "executionInfo": {
     "elapsed": 9,
     "status": "ok",
     "timestamp": 1677706753533,
     "user": {
      "displayName": "Bryan Weber",
      "userId": "07192968577867878386"
     },
     "user_tz": 300
    },
    "id": "1r_v98VlZtd_",
    "outputId": "243e3060-6013-4f33-b4b8-645b82c411ef"
   },
   "outputs": [
    {
     "name": "stdout",
     "output_type": "stream",
     "text": [
      "If we set N to infinity, this probability will be:  0.23013934044341644\n"
     ]
    }
   ],
   "source": [
    "print(\"If we set N to infinity, this probability will be: \", 2*st.norm.cdf(-1.2))\n",
    "#Why did I use 2? -1.2?  Explain here, in your notes, now."
   ]
  },
  {
   "cell_type": "markdown",
   "metadata": {
    "id": "KcqCp5SMS2Lp"
   },
   "source": [
    "So if this was a deck of cards, who would be we believe?\n",
    "\n",
    "    H0: The 10 was drawn from a distribution with mean 4 and sd 10.\n",
    "    HA: The 10 was not drawn from that distribution.\n",
    "\n",
    "Most of you think it is totally possible/probable that H0 is right. \n",
    "\n",
    "If we believe H0, we say we \"fail to reject the null.\"\n",
    "\n",
    "If we disbelieve H0, we say we \"reject the null.\"\n",
    "\n",
    "Typically, if the probability of an event is <10% we reject the null.\n",
    "\n",
    "Some people use 5% or 1%, but the this level is called a p-value."
   ]
  },
  {
   "cell_type": "markdown",
   "metadata": {
    "id": "j828fEj4NBmC"
   },
   "source": [
    "## Comparing Sample Averages To Given Values: Unknown Variance."
   ]
  },
  {
   "cell_type": "code",
   "execution_count": 6,
   "metadata": {
    "colab": {
     "base_uri": "https://localhost:8080/",
     "height": 279
    },
    "executionInfo": {
     "elapsed": 855,
     "status": "ok",
     "timestamp": 1677706754380,
     "user": {
      "displayName": "Bryan Weber",
      "userId": "07192968577867878386"
     },
     "user_tz": 300
    },
    "id": "4kmwHLtV9B3d",
    "outputId": "e898e76a-33d2-4a11-99dc-a05182f51d5c"
   },
   "outputs": [
    {
     "data": {
      "image/png": "[encoded data removed]",
      "text/plain": [
       "<Figure size 640x480 with 1 Axes>"
      ]
     },
     "metadata": {},
     "output_type": "display_data"
    }
   ],
   "source": [
    "normalData = pd.DataFrame(index=range(0,4000), columns=['data','distribution'])\n",
    "\n",
    "normalData.loc[0:999,'data']     = np.random.normal(0, 1, 1000)  #think about what the .loc argument does.\n",
    "normalData.loc[1000:1999,'data'] = random.normal(0, 3, 1000) #mean = 0, sd = 3, number of draws.\n",
    "normalData.loc[2000:2999,'data'] = random.normal(-4, 1, 1000)\n",
    "normalData.loc[3000:3999,'data'] = random.normal(5, 0.5, 1000)\n",
    "\n",
    "normalData.loc[0:999,'distribution']     = 'a'\n",
    "normalData.loc[1000:1999,'distribution'] = 'b'\n",
    "normalData.loc[2000:2999,'distribution'] = 'c'\n",
    "normalData.loc[3000:3999,'distribution'] = 'd'\n",
    "\n",
    "normalHist = sns.histplot(x = normalData['data'], hue = normalData['distribution']) "
   ]
  },
  {
   "cell_type": "markdown",
   "metadata": {
    "id": "rVgM_oeCAaMQ"
   },
   "source": [
    "Now, it is clear from last week that we have 4 different distributions here.   How can we PROVE one is substantively different than 0?\n",
    "\n",
    "Assume your opponent is obstinant and visual inspection is insufficient.\n",
    "\n",
    "Assume, for the moment, we are not allowed to peek at any information.\n",
    "\n",
    "Let's start with Data Set A (you will do your own afterwards!):\n",
    "\n",
    "    H0: Distribution A has a mean 0.\n",
    "    HA: Distribution A does not have a mean 0.\n",
    "    \n",
    "This is the setup we would want to use if our opponent believes the mean is 0, and we do not believe them.\n",
    "While we can look up above in the code and see the true values of A *should* be mean = 0, std deviation = 1, let's pretend we don't know that, and see what our small random sample of 1000 got us:"
   ]
  },
  {
   "cell_type": "code",
   "execution_count": 7,
   "metadata": {
    "colab": {
     "base_uri": "https://localhost:8080/"
    },
    "executionInfo": {
     "elapsed": 9,
     "status": "ok",
     "timestamp": 1677706754381,
     "user": {
      "displayName": "Bryan Weber",
      "userId": "07192968577867878386"
     },
     "user_tz": 300
    },
    "id": "zycyfjNMNOHN",
    "outputId": "15a4869d-635a-41ba-9dea-1c6b9ec2e891"
   },
   "outputs": [
    {
     "name": "stdout",
     "output_type": "stream",
     "text": [
      "Data set A has a sample mean of: -0.039908512715532765 and SD of:  0.9704035990641665\n"
     ]
    }
   ],
   "source": [
    "#This is called SUBSETTING. Refer to Ch1 activities.\n",
    "meanD =  normalData.loc[normalData['distribution'] == 'a','data'].mean()\n",
    "sdD =  normalData.loc[normalData['distribution'] == 'a','data'].std()\n",
    "print(\"Data set A has a sample mean of:\", meanD, \"and SD of: \", sdD)"
   ]
  },
  {
   "cell_type": "markdown",
   "metadata": {
    "id": "NFWIGcG0ZbsM"
   },
   "source": [
    "Now our estimate of $\\sigma$ from the data set is a little small, we had to estimate it and we got a slightly smaller SD than we expected... \n",
    "\n",
    "1.   Our estimates of $\\bar{x}, s_x$ aren't as good as knowing the real $\\mu, \\sigma$.\n",
    "2.   The sample mean will move around very little if we have a lot of data, so we need to account for the use of more/less data. If we look up at the z-table, it has no interest in the amount of data, only the $\\bar{x}, s_x$. Specifically, the **standard error** (*the SD of our sample average*) follows $\\frac{s}{\\sqrt{N}}$, it takes the SD and shrinks it based on N. See simulation below for evidence.\n",
    "\n",
    "So we can combine the idea of the Z-score, which was:\n",
    "\n",
    "$z = \\frac{X-H_0}{\\sigma}$\n",
    "\n",
    "Once we move closer to the real world and are forced to estimate the standard deviation, and have sample averages, the estimate is called a t-score:\n",
    "\n",
    "$t_{N-1} = \\frac{\\bar{x}-H_0}{Std. Error}$\n",
    "\n",
    "Notice how the above has the same essential shape as the z-score, then we substitute our estimate of the standard error of $\\bar{x}$\n",
    "\n",
    "$t_{N-1} = \\frac{\\bar{x}-H_0}{\\frac{s}{\\sqrt{N}}}$\n",
    "\n",
    "\n",
    "For those who are astute, you might notice that $H_0$ is the only item that cannot change if we re-drew data.\n",
    "\n",
    "$t_{N-1} \\approx \\frac{-0.03990851271553279 - 0}{\\frac{0.9704035990641666}{\\sqrt{1000}}}$\n",
    "\n",
    "$t_{N-1} \\approx \\frac{-0.03990851271553279}{0.03068685622667607}$\n",
    "\n",
    "$t_{N-1} \\approx -1.3005083486147513$"
   ]
  },
  {
   "cell_type": "code",
   "execution_count": 8,
   "metadata": {},
   "outputs": [
    {
     "data": {
      "text/plain": [
       "-1.3005083486147513"
      ]
     },
     "execution_count": 8,
     "metadata": {},
     "output_type": "execute_result"
    }
   ],
   "source": [
    "-0.03990851271553279/(0.9704035990641666/math.sqrt(1000))"
   ]
  },
  {
   "cell_type": "markdown",
   "metadata": {},
   "source": [
    "We now have the **t-value**, and we can conduct the t-test. We actually have to feed it 2 pieces of information, the t-value, and the **degrees of freedom**."
   ]
  },
  {
   "cell_type": "code",
   "execution_count": 9,
   "metadata": {
    "colab": {
     "base_uri": "https://localhost:8080/"
    },
    "executionInfo": {
     "elapsed": 17,
     "status": "ok",
     "timestamp": 1677706763211,
     "user": {
      "displayName": "Bryan Weber",
      "userId": "07192968577867878386"
     },
     "user_tz": 300
    },
    "id": "cwBbt69DmWXz",
    "outputId": "aa1060b1-66aa-4418-b4fc-bb3120634d4b"
   },
   "outputs": [
    {
     "data": {
      "text/plain": [
       "0.19372672217306094"
      ]
     },
     "execution_count": 9,
     "metadata": {},
     "output_type": "execute_result"
    }
   ],
   "source": [
    "2*st.t.cdf(-1.3005083486147513, (1000-1)) #This is that N-1 subscript, remember why we are doing 2x"
   ]
  },
  {
   "cell_type": "markdown",
   "metadata": {
    "id": "9vwgkeFvP_zD"
   },
   "source": [
    "So about 19% of the time we would expect to see a result further away from 0 than our observed result.\n",
    "\n",
    "This means we are not ready to reject the null under our p-value of 0.05%\n",
    "\n",
    "    H0: Distribution A has a mean 0.\n",
    "    HA: Distribution A does not have a mean 0.\n",
    "\n",
    "We cannot disagree with the idea that distribution A has a mean 0."
   ]
  },
  {
   "cell_type": "markdown",
   "metadata": {
    "id": "D4JS81xliL0r"
   },
   "source": [
    "You might think to yourself... but why do we need that sqrt? What if we just... didn't? "
   ]
  },
  {
   "cell_type": "code",
   "execution_count": 10,
   "metadata": {
    "colab": {
     "base_uri": "https://localhost:8080/",
     "height": 279
    },
    "executionInfo": {
     "elapsed": 8836,
     "status": "ok",
     "timestamp": 1677706763210,
     "user": {
      "displayName": "Bryan Weber",
      "userId": "07192968577867878386"
     },
     "user_tz": 300
    },
    "id": "DWF-GX3PbPRl",
    "outputId": "4b262648-ff06-490b-d9e5-b20ff6252212"
   },
   "outputs": [
    {
     "data": {
      "image/png": "[encoded data removed]",
      "text/plain": [
       "<Figure size 640x480 with 1 Axes>"
      ]
     },
     "metadata": {},
     "output_type": "display_data"
    }
   ],
   "source": [
    "numberOfTests = 10000\n",
    "numberOfSamplesInTest = 50  #smaller than before but test is very slow if we do 1k.\n",
    "naieveTest_t = pd.DataFrame(index=range(0,numberOfTests), columns=['data','distribution'])\n",
    "for i in range(0, numberOfTests//2):  # The // command does int division, advanced.\n",
    "  sample = random.normal(0, 1, numberOfSamplesInTest)\n",
    "  naieveTest_t.loc[i] = sample.mean()/sample.std() #std of a single point\n",
    "  naieveTest_t.loc[i+numberOfTests//2] = sample.mean()/(sample.std()/math.sqrt(numberOfSamplesInTest)) #Standard deviation of sample average.\n",
    "\n",
    "naieveTest_t.loc[(naieveTest_t.index >= numberOfTests//2),'distribution'] = 'correct'\n",
    "naieveTest_t.loc[(naieveTest_t.index < numberOfTests//2),'distribution'] = 'naieve'\n",
    "\n",
    "naieveTestPlot = sns.histplot(x = naieveTest_t['data'], hue = naieveTest_t['distribution'])"
   ]
  },
  {
   "cell_type": "markdown",
   "metadata": {
    "id": "QR4Tu7gRlBCl"
   },
   "source": [
    "Oh my... the t-tests are VERY underpowered if we forget to divide by N!\n",
    "\n",
    "The naieve estimate imagines the sample average could hop around as much as a single point does. The sample average tends to be pretty conistent over time (relative to one point), so this means the sample average hardly every ticks anything interesting happening in the t-score.  The naieve t-score then is pretty much always the same.\n",
    "\n",
    "The improved standard errors recognize that the sample mean will move very little if sample sizes are big.  So if a sample mean gets a big number, then it better reflects that difference."
   ]
  },
  {
   "cell_type": "markdown",
   "metadata": {
    "id": "B3PKPq46VVnp"
   },
   "source": [
    "## Comparing the Means Of Distributions: Two Unknown Variances\n",
    "\n",
    "The previous things checked if things were equal to a specific number. What if we have a distribution and we want to see if it's equal to another distribution (at least in terms of means?)\n",
    "\n",
    "In which case, we need to exploit the fact that variances add.\n",
    "\n",
    "The structure of our test will remain the same:\n",
    "\n",
    "$t_{?} \\approx \\frac{\\bar{x}-\\bar{y}}{Measure Of Distance} = \\frac{\\bar{x}-\\bar{y}}{\\sqrt{SE^2_x + SE^2_y}} = \\frac{\\bar{x}-\\bar{y}}{\\sqrt{\\frac{s_x^2}{n_x} + \\frac{s_y^2}{n_y}}}$\n",
    "\n",
    "The degrees of freedom for this, marked as $?$, [is not immediately intuitive, however](https://www.itl.nist.gov/div898/handbook/eda/section3/eda353.htm).\n",
    "\n",
    "$\\frac{ \\frac{s_x^2}{n_x} + \\frac{s_y^2}{n_y}}{\\frac{(\\frac{s_x^2}{n_x})^2}{n_x-1} + \\frac{(\\frac{s_y^2}{n_y})^2}{n_y-1}}$\n",
    "\n",
    "But instead of that, [you can typically can just use the smaller of](http://www.stat.yale.edu/Courses/1997-98/101/meancomp.htm) $n_x-1$ or $n_y-1$."
   ]
  },
  {
   "cell_type": "markdown",
   "metadata": {
    "id": "-bJz9S_oHE2z"
   },
   "source": [
    "## Calculating Confidence Intervals\n",
    "\n",
    "We've actually went through the heart of calculated CI's earlier.  Let's refresh on what we did (with a minor change of 1.96 instead of 1.2)"
   ]
  },
  {
   "cell_type": "code",
   "execution_count": 11,
   "metadata": {
    "colab": {
     "base_uri": "https://localhost:8080/",
     "height": 265
    },
    "executionInfo": {
     "elapsed": 1316,
     "status": "ok",
     "timestamp": 1677706970276,
     "user": {
      "displayName": "Bryan Weber",
      "userId": "07192968577867878386"
     },
     "user_tz": 300
    },
    "id": "cVFIOHR4HED5",
    "outputId": "7b815a94-218e-4405-dc24-708171b801e3"
   },
   "outputs": [
    {
     "data": {
      "image/png": "[encoded data removed]",
      "text/plain": [
       "<Figure size 640x480 with 1 Axes>"
      ]
     },
     "metadata": {},
     "output_type": "display_data"
    }
   ],
   "source": [
    "stdNormData = random.normal(0, 1, 10000)\n",
    "outside = (stdNormData >= 1.96) | (stdNormData <= -1.96)  #Uses OR operator, the pipe.  Needs parentheses around both sides.\n",
    "stdNorm = sns.histplot(x = stdNormData, hue= outside, multiple=\"stack\") #You should explain what the stacked does."
   ]
  },
  {
   "cell_type": "code",
   "execution_count": 12,
   "metadata": {
    "colab": {
     "base_uri": "https://localhost:8080/"
    },
    "executionInfo": {
     "elapsed": 15,
     "status": "ok",
     "timestamp": 1677706970277,
     "user": {
      "displayName": "Bryan Weber",
      "userId": "07192968577867878386"
     },
     "user_tz": 300
    },
    "id": "JJrNk2yHH7jX",
    "outputId": "be1b3f33-daca-49a6-c116-1128810ecc3e"
   },
   "outputs": [
    {
     "name": "stdout",
     "output_type": "stream",
     "text": [
      "Probability that result might be expected to be further away from H0 than 10: 0.0494\n"
     ]
    }
   ],
   "source": [
    "print(\"Probability that result might be expected to be further away from H0 than 10:\", sum(outside)/len(stdNormData))"
   ]
  },
  {
   "cell_type": "code",
   "execution_count": 13,
   "metadata": {
    "colab": {
     "base_uri": "https://localhost:8080/"
    },
    "executionInfo": {
     "elapsed": 266,
     "status": "ok",
     "timestamp": 1677725346937,
     "user": {
      "displayName": "Bryan Weber",
      "userId": "07192968577867878386"
     },
     "user_tz": 300
    },
    "id": "RBY1VXaGH_rK",
    "outputId": "d91657af-a923-46a5-aa29-0969cf580822"
   },
   "outputs": [
    {
     "name": "stdout",
     "output_type": "stream",
     "text": [
      "If we set N to infinity, this probability will be:  0.04999579029644087\n"
     ]
    }
   ],
   "source": [
    "print(\"If we set N to infinity, this probability will be: \", 2*st.norm.cdf(-1.96))"
   ]
  },
  {
   "cell_type": "markdown",
   "metadata": {
    "id": "O0uJBdxMHv7c"
   },
   "source": [
    "So the there is some z-value $(\\pm 1.96)$ that demarkates 95% of the data being inside of it. If I have a data point that tends to vary, I'd like to have the same confidence that my data will fall within a particular interval, thus, a CI.\n",
    "\n",
    "We know from above demonstration that 5% of the data tends to fall OUTSIDE"
   ]
  },
  {
   "cell_type": "markdown",
   "metadata": {
    "id": "RrTTrbwlP06f"
   },
   "source": [
    "# Exercizes: \n",
    "\n",
    "Complete each item in order to move up to the next score tier. For the highest tier, complete all earlier items.\n",
    "\n",
    "For a 80%:Show me your additional notes in the code above you made as we went through it. Should be **BOLDED**, so I know it's new.\n",
    "\n",
    "For a 90%:Tim claims he flipped 7 heads in a row on a fair coin. Do you believe him? Why? What p-value will you use to make your determination? What's your H0 and HA?\n",
    "\n",
    "For a 100%:Perform a t-test for data sets B, C and D.  Confirm if B is significantly different than 0, C is significantly different than -1, and D is significantly different than 3. Use a p-value of 5%.\n",
    "\n",
    "For a 110%:Check if A is different than B.\n",
    "\n",
    "For a 120%: Write a function that performs a z-test when given the input: observed measure, H0, p-value, and standard deviation. "
   ]
  },
  {
   "cell_type": "markdown",
   "metadata": {
    "id": "a7h771_JSDPi"
   },
   "source": [
    "# Clever Loops\n"
   ]
  },
  {
   "cell_type": "code",
   "execution_count": 14,
   "metadata": {
    "colab": {
     "base_uri": "https://localhost:8080/"
    },
    "executionInfo": {
     "elapsed": 16,
     "status": "ok",
     "timestamp": 1677706763214,
     "user": {
      "displayName": "Bryan Weber",
      "userId": "07192968577867878386"
     },
     "user_tz": 300
    },
    "id": "5du6TXdNSIFz",
    "outputId": "54f6b880-d527-40de-920c-fd303eae2c88"
   },
   "outputs": [
    {
     "name": "stdout",
     "output_type": "stream",
     "text": [
      "Data set  a  has a sample mean of: -0.039908512715532765 and SD of:  0.9704035990641665\n",
      "Data set  b  has a sample mean of: -0.03358171805892915 and SD of:  3.0442182419355244\n",
      "Data set  c  has a sample mean of: -3.9912684989214573 and SD of:  0.9732257297426062\n",
      "Data set  d  has a sample mean of: 5.031983957896937 and SD of:  0.5127844395026573\n"
     ]
    }
   ],
   "source": [
    "#Coding expansion, great uses for for-loops:\n",
    "for i in ['a','b','c','d']:\n",
    "  meanI =  normalData.loc[normalData['distribution'] == i,'data'].mean()\n",
    "  sdI =  normalData.loc[normalData['distribution'] == i,'data'].std()\n",
    "  print(\"Data set \", i, \" has a sample mean of:\", meanI, \"and SD of: \", sdI)\n",
    "\n",
    "# You can also use groupby for this purpose!"
   ]
  }
 ],
 "metadata": {
  "colab": {
   "authorship_tag": "ABX9TyMd/o2EAbbidYKUpU/bsfNk",
   "provenance": []
  },
  "kernelspec": {
   "display_name": "Python 3 (ipykernel)",
   "language": "python",
   "name": "python3"
  },
  "language_info": {
   "codemirror_mode": {
    "name": "ipython",
    "version": 3
   },
   "file_extension": ".py",
   "mimetype": "text/x-python",
   "name": "python",
   "nbconvert_exporter": "python",
   "pygments_lexer": "ipython3",
   "version": "3.11.5"
  }
 },
 "nbformat": 4,
 "nbformat_minor": 1
}
