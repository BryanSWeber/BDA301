{
  "nbformat": 4,
  "nbformat_minor": 0,
  "metadata": {
    "colab": {
      "provenance": []
    },
    "kernelspec": {
      "name": "python3",
      "display_name": "Python 3"
    },
    "language_info": {
      "name": "python"
    }
  },
  "cells": [
    {
      "cell_type": "markdown",
      "source": [
        "# Day 5\n",
        "\n",
        "\n",
        "So today we will be discussing confidence intervals and hypothesis testing.\n",
        "This will be primarily demonstration."
      ],
      "metadata": {
        "id": "D65IcNB_6i2G"
      }
    },
    {
      "cell_type": "code",
      "source": [
        "import pandas as pd\n",
        "import numpy as np\n",
        "import math #Sqrts and other functions\n",
        "import scipy.stats as st # stats\n",
        "import seaborn as sns #figures\n",
        "\n",
        "from numpy import random\n",
        "random.seed(1329) #Ensures replicability"
      ],
      "metadata": {
        "id": "2t9o0pwm89ud"
      },
      "execution_count": 1,
      "outputs": []
    },
    {
      "cell_type": "markdown",
      "source": [
        "### Hypothesis Testing Intuition\n",
        "\n",
        "Let us suppose I drew a card from a standard 52 card deck, and got the $A♠$.\n",
        "\n",
        "Would you believe me?\n",
        "\n",
        "What if I said I shuffled it again and got the $A♠$ again?\n",
        "\n",
        "How many times, maximum, would you belive me?\n",
        "\n",
        "The first time, the probability of $P(A♠) = \\frac{1}{52}$\n",
        "\n",
        "The second time $P(A♠,A♠) = \\frac{1}{52}^2$\n",
        "\n",
        "The third time $P(A♠,A♠,A♠) = \\frac{1}{52}^3$"
      ],
      "metadata": {
        "id": "wPweYHbIOUc4"
      }
    },
    {
      "cell_type": "code",
      "source": [
        "print('The class\\'s critical p-value is somewhere around:', (1/52)**1, \"and \", (1/52)**3)"
      ],
      "metadata": {
        "colab": {
          "base_uri": "https://localhost:8080/"
        },
        "id": "bELNdUmgPQ_X",
        "outputId": "423d30f7-a037-4f02-ff6c-292464102aa4"
      },
      "execution_count": 2,
      "outputs": [
        {
          "output_type": "stream",
          "name": "stdout",
          "text": [
            "The class's critical p-value is somewhere around: 0.019230769230769232 and  7.11197086936732e-06\n"
          ]
        }
      ]
    },
    {
      "cell_type": "markdown",
      "source": [
        "Typically, if the probability of an event is <10% we believe something is off.\n",
        "\n",
        "Some people use 5% or 1%, but the this level is called a p-value."
      ],
      "metadata": {
        "id": "_js2WUqdQZ_z"
      }
    },
    {
      "cell_type": "markdown",
      "source": [
        "The terms are as follows:\n",
        "\n",
        "    H0: I have gotten A♠ each time.\n",
        "    HA: I have not gotten A♠ each time.\n",
        "\n",
        "Critical value - the level of improbability that needs to be passed before you begin disbeliving me. In our case, it was very small, but decks of cards are blunt instruments."
      ],
      "metadata": {
        "id": "hPyQy4azQC2C"
      }
    },
    {
      "cell_type": "markdown",
      "source": [
        "## Single Point Comparisions\n",
        "\n",
        "So let's begin by imagining that we have a single point 10. Our opponents believe that this 10 was drawn from a normal distribution with mean 4 and sd 5.\n",
        "\n",
        "    H0: The 10 was drawn from a distribution with mean 4 and sd 10.\n",
        "    HA: The 10 was not drawn from that distribution.\n",
        "\n",
        "*Note the opponent is always H0, what everyone else believes, the default belief. Researchers are always fighting the norm, there is no research to validate existing beliefs.*\n",
        "\n",
        "That gives:\n",
        "\n",
        "$z = \\frac{10-H_0}{\\sigma}$\n",
        "\n",
        "$z = \\frac{10-4}{5}$\n",
        "\n",
        "$z= 1.2$\n",
        "\n",
        "That means in a *standard normal distribution* like the one shown below:"
      ],
      "metadata": {
        "id": "dRujFGjNN7Wx"
      }
    },
    {
      "cell_type": "code",
      "source": [
        "stdNormData = random.normal(0, 1, 10000)\n",
        "outside = (stdNormData >= 1.2) | (stdNormData <= -1.2)  #Uses OR operator, the pipe.  Needs parentheses around both sides.\n",
        "stdNorm = sns.histplot(x = stdNormData, hue= outside, multiple=\"stack\") #You should explain what the stacked does."
      ],
      "metadata": {
        "colab": {
          "base_uri": "https://localhost:8080/",
          "height": 430
        },
        "id": "5WNQNC0pQzuA",
        "outputId": "e027d515-6443-428d-f6f0-3846467f7754"
      },
      "execution_count": 3,
      "outputs": [
        {
          "output_type": "display_data",
          "data": {
            "text/plain": [
              "<Figure size 640x480 with 1 Axes>"
            ],
            "image/png": "[encoded data removed]"
          },
          "metadata": {}
        }
      ]
    },
    {
      "cell_type": "code",
      "source": [
        "print(\"pct of time result could be expected to be further away from H0 than 10:\", sum(outside)/len(stdNormData) * 100)"
      ],
      "metadata": {
        "colab": {
          "base_uri": "https://localhost:8080/"
        },
        "id": "WurD5bSYSEAO",
        "outputId": "35bc60e5-9bca-4584-c207-f15fb160be54"
      },
      "execution_count": 4,
      "outputs": [
        {
          "output_type": "stream",
          "name": "stdout",
          "text": [
            "pct of time result could be expected to be further away from H0 than 10: 23.200000000000003\n"
          ]
        }
      ]
    },
    {
      "cell_type": "code",
      "source": [
        "print(\"If we set N to infinity, this probability will be: \", 2*st.norm.cdf(-1.2))\n",
        "#Why did I use 2? -1.2?  Explain here, in your notes, now."
      ],
      "metadata": {
        "colab": {
          "base_uri": "https://localhost:8080/"
        },
        "id": "1r_v98VlZtd_",
        "outputId": "cc0a0ffe-021b-40fe-b70e-9e6f29111984"
      },
      "execution_count": 5,
      "outputs": [
        {
          "output_type": "stream",
          "name": "stdout",
          "text": [
            "If we set N to infinity, this probability will be:  0.23013934044341644\n"
          ]
        }
      ]
    },
    {
      "cell_type": "markdown",
      "source": [
        "So if this was a deck of cards, who would be we believe?\n",
        "\n",
        "    H0: The 10 was drawn from a distribution with mean 4 and sd 10.\n",
        "    HA: The 10 was not drawn from that distribution.\n",
        "\n",
        "Most of you think it is totally possible/probable that H0 is right.\n",
        "\n",
        "If we believe H0, we say we \"fail to reject the null.\"\n",
        "\n",
        "If we disbelieve H0, we say we \"reject the null.\"\n",
        "\n",
        "Typically, if the probability of an event is <10% we reject the null.\n",
        "\n",
        "Some people use 5% or 1%, but the this level is called a p-value."
      ],
      "metadata": {
        "id": "KcqCp5SMS2Lp"
      }
    },
    {
      "cell_type": "markdown",
      "source": [
        "## Unknown Mean, Known Variance."
      ],
      "metadata": {
        "id": "j828fEj4NBmC"
      }
    },
    {
      "cell_type": "code",
      "source": [
        "normalData = pd.DataFrame(index=range(0,4000), columns=['data','distribution'])\n",
        "normalData = normalData.fillna(0)\n",
        "\n",
        "normalData.loc[0:999,'data']     = random.normal(0, 1, 1000)  #think about what the .loc argument does.\n",
        "normalData.loc[1000:1999,'data'] = random.normal(0, 3, 1000) #mean = 0, sd = 3, number of draws.\n",
        "normalData.loc[2000:2999,'data'] = random.normal(-4, 1, 1000)\n",
        "normalData.loc[3000:3999,'data'] = random.normal(5, 0.5, 1000)\n",
        "\n",
        "normalData.loc[0:999,'distribution']     = 'a'\n",
        "normalData.loc[1000:1999,'distribution'] = 'b'\n",
        "normalData.loc[2000:2999,'distribution'] = 'c'\n",
        "normalData.loc[3000:3999,'distribution'] = 'd'\n",
        "\n",
        "normalHist = sns.histplot(x = normalData['data'], hue = normalData['distribution'])"
      ],
      "metadata": {
        "colab": {
          "base_uri": "https://localhost:8080/",
          "height": 449
        },
        "id": "4kmwHLtV9B3d",
        "outputId": "efa6d407-8d1d-41ac-ab62-1974b14810f9"
      },
      "execution_count": 6,
      "outputs": [
        {
          "output_type": "display_data",
          "data": {
            "text/plain": [
              "<Figure size 640x480 with 1 Axes>"
            ],
            "image/png": "[encoded data removed]"
          },
          "metadata": {}
        }
      ]
    },
    {
      "cell_type": "markdown",
      "source": [
        "Now, it is clear from last week that we have 4 different distributions here.   How can we PROVE one is substantively different than 0?\n",
        "\n",
        "Assume your opponent is obstinant and visual inspection is insufficient.\n",
        "\n",
        "Assume, for the moment, we are not allowed to peek at any information.\n",
        "\n",
        "Let's start with Data Set A (you will do your own afterwards!)\n",
        "\n",
        "    H0: Distribution A has a mean 0.\n",
        "    HA: Distribution A does not have a mean 0.\n",
        "\n",
        "Now that we don't know $\\sigma$, we have to estimate. Here are our estimates:"
      ],
      "metadata": {
        "id": "rVgM_oeCAaMQ"
      }
    },
    {
      "cell_type": "code",
      "source": [
        "#This is called SUBSETTING. Refer to Ch1 activities.\n",
        "meanD =  normalData.loc[normalData['distribution'] == 'a','data'].mean()\n",
        "sdD =  normalData.loc[normalData['distribution'] == 'a','data'].std()\n",
        "print(\"Data set A has a sample mean of:\", meanD, \"and SD of: \", sdD)"
      ],
      "metadata": {
        "colab": {
          "base_uri": "https://localhost:8080/"
        },
        "id": "zycyfjNMNOHN",
        "outputId": "6f484926-b623-4a77-e1b2-d50cf99ccc71"
      },
      "execution_count": 7,
      "outputs": [
        {
          "output_type": "stream",
          "name": "stdout",
          "text": [
            "Data set A has a sample mean of: 0.013682754808602482 and SD of:  0.9668115208312165\n"
          ]
        }
      ]
    },
    {
      "cell_type": "markdown",
      "source": [
        "But\n",
        "\n",
        "1.   Our estimates of $\\bar{x}, s_x$ aren't as good as knowing the real $\\mu, \\sigma$.\n",
        "2.   Our estimates depend on how much data we have. More data, less variation in our sample average. Specifically, the **standard error** (*the SD of our sample average*) follows $\\frac{s}{\\sqrt{N}}$\n",
        "\n",
        "So we can slap these two together, this estimate is called a t-score:\n",
        "\n",
        "$t_{N-1} = \\frac{\\bar{x}-H_0}{Std. Error}$\n",
        "\n",
        "Notice how the above has the same essential shape as the z-score, then we substitute our estimate of the standard error of $\\bar{x}$\n",
        "\n",
        "$t_{N-1} = \\frac{\\bar{x}-H_0}{\\frac{s}{\\sqrt{N}}}$\n",
        "\n",
        "\n",
        "For those who are astute, you might notice that $H_0$ is the only item that cannot change if we re-drew data.\n",
        "\n",
        "$t_{N-1} \\approx \\frac{-0.013682 - 0}{\\frac{0.9668}{\\sqrt{1000}}}$\n",
        "\n",
        "$t_{N-1} \\approx \\frac{-0.013682}{0.03057}$\n",
        "\n",
        "$t_{N-1} \\approx -0.44756$"
      ],
      "metadata": {
        "id": "NFWIGcG0ZbsM"
      }
    },
    {
      "cell_type": "markdown",
      "source": [
        "You might think to yourself... but why do we need that sqrt? What if we just... didn't?"
      ],
      "metadata": {
        "id": "D4JS81xliL0r"
      }
    },
    {
      "cell_type": "code",
      "source": [
        "numberOfTests = 10000\n",
        "numberOfSamplesInTest = 50  #smaller than before but test is very slow if we do 1k.\n",
        "naieveTest_t = pd.DataFrame(index=range(0,numberOfTests), columns=['data','distribution'])\n",
        "for i in range(0, numberOfTests//2): #// is integer division to makes sure there's no rounding errors around.\n",
        "  sample = random.normal(0, 1, numberOfSamplesInTest)\n",
        "  naieveTest_t.loc[i] = sample.mean()/sample.std() #std of a single point\n",
        "  naieveTest_t.loc[i+numberOfTests//2] = sample.mean()/(sample.std()/math.sqrt(numberOfSamplesInTest)) #Standard deviation of sample average.\n",
        "\n",
        "naieveTest_t.loc[(naieveTest_t.index >= numberOfTests/2),'distribution'] = 'correct'\n",
        "naieveTest_t.loc[(naieveTest_t.index < numberOfTests/2),'distribution'] = 'naieve'\n",
        "\n",
        "naieveTestPlot = sns.histplot(x = naieveTest_t['data'], hue = naieveTest_t['distribution'])"
      ],
      "metadata": {
        "colab": {
          "base_uri": "https://localhost:8080/",
          "height": 449
        },
        "id": "DWF-GX3PbPRl",
        "outputId": "95745d7e-cd60-43e9-bd9b-74725775e987"
      },
      "execution_count": 8,
      "outputs": [
        {
          "output_type": "display_data",
          "data": {
            "text/plain": [
              "<Figure size 640x480 with 1 Axes>"
            ],
            "image/png": "[encoded data removed]"
          },
          "metadata": {}
        }
      ]
    },
    {
      "cell_type": "markdown",
      "source": [
        "Oh my... the t-tests are VERY underpowered if we forget to divide by N!\n",
        "\n",
        "The naieve estimate imagines the sample average could hop around as much as a single point does. The sample average tends to be pretty conistent over time (relative to one point), so this means the sample average hardly every ticks anything interesting happening in the t-score.  The naieve t-score then is pretty much always the same.\n",
        "\n",
        "The improved standard errors recognize that the sample mean will move very little if sample sizes are big.  So if a sample mean gets a big number, then it better reflects that difference.\n",
        "\n",
        "\n",
        "But what does this t test look like?  We actually have to feed it 2 pieces of information, the t-value, and the **degrees of freedom**."
      ],
      "metadata": {
        "id": "QR4Tu7gRlBCl"
      }
    },
    {
      "cell_type": "code",
      "source": [
        "2*st.t.cdf(-0.44756, (1000-1)) #This is that N-1 subscript, remember why we are doing 2x"
      ],
      "metadata": {
        "colab": {
          "base_uri": "https://localhost:8080/"
        },
        "id": "cwBbt69DmWXz",
        "outputId": "db43ca6b-a2eb-483a-ebf6-d032d05aeb6c"
      },
      "execution_count": 9,
      "outputs": [
        {
          "output_type": "execute_result",
          "data": {
            "text/plain": [
              "0.6545678048992367"
            ]
          },
          "metadata": {},
          "execution_count": 9
        }
      ]
    },
    {
      "cell_type": "markdown",
      "source": [
        "So about 48% of the time we would expect to see a result further away from 0 than our observed result.\n",
        "\n",
        "This means we are not ready to reject the null under our p-value of 0.05%\n",
        "\n",
        "    H0: Distribution A has a mean 0.\n",
        "    HA: Distribution A does not have a mean 0.\n",
        "\n",
        "We cannot disagree with the idea that distribution A has a mean 0."
      ],
      "metadata": {
        "id": "9vwgkeFvP_zD"
      }
    },
    {
      "cell_type": "markdown",
      "source": [
        "## Comparing the Means Of Distributions\n",
        "\n",
        "The previous things checked if things were equal to a specific number. What if we have a distribution and we want to see if it's equal to another distribution (at least in terms of means?)\n",
        "\n",
        "In which case, we need to exploit the fact that variances add.\n",
        "\n",
        "The structure of our test will remain the same:\n",
        "\n",
        "$t_{?} \\approx \\frac{\\bar{x}-\\bar{y}}{Measure Of Distance} = \\frac{\\bar{x}-\\bar{y}}{\\sqrt{SE^2_x + SE^2_y}} = \\frac{\\bar{x}-\\bar{y}}{\\sqrt{\\frac{s_x^2}{n_x} + \\frac{s_y^2}{n_y}}}$\n",
        "\n",
        "The degrees of freedom for this, marked as $?$, [is not immediately intuitive, however](https://www.itl.nist.gov/div898/handbook/eda/section3/eda353.htm).\n",
        "\n",
        "$\\frac{ \\frac{s_x^2}{n_x} + \\frac{s_y^2}{n_y}}{\\frac{(\\frac{s_x^2}{n_x})^2}{n_x-1} + \\frac{(\\frac{s_y^2}{n_y})^2}{n_y-1}}$\n",
        "\n",
        "But instead of that, [you can typically can just use the smaller of](http://www.stat.yale.edu/Courses/1997-98/101/meancomp.htm) $n_x-1$ or $n_y-1$."
      ],
      "metadata": {
        "id": "B3PKPq46VVnp"
      }
    },
    {
      "cell_type": "markdown",
      "source": [
        "## Calculating Confidence Intervals\n",
        "\n",
        "We've actually went through the heart of calculated CI's earlier.  Let's refresh on what we did (with a minor change of 1.96 instead of 1.2)"
      ],
      "metadata": {
        "id": "-bJz9S_oHE2z"
      }
    },
    {
      "cell_type": "code",
      "source": [
        "stdNormData = random.normal(0, 1, 10000)\n",
        "outside = (stdNormData >= 1.96) | (stdNormData <= -1.96)  #Uses OR operator, the pipe.  Needs parentheses around both sides.\n",
        "stdNorm = sns.histplot(x = stdNormData, hue= outside, multiple=\"stack\") #You should explain what the stacked does."
      ],
      "metadata": {
        "colab": {
          "base_uri": "https://localhost:8080/",
          "height": 430
        },
        "id": "cVFIOHR4HED5",
        "outputId": "28f22c08-291d-42d7-bc5f-e1036b153b7c"
      },
      "execution_count": 10,
      "outputs": [
        {
          "output_type": "display_data",
          "data": {
            "text/plain": [
              "<Figure size 640x480 with 1 Axes>"
            ],
            "image/png": "[encoded data removed]"
          },
          "metadata": {}
        }
      ]
    },
    {
      "cell_type": "code",
      "source": [
        "print(\"pct of time result could be expected to be further away from H0 than 10:\", sum(outside)/len(stdNormData) * 100)"
      ],
      "metadata": {
        "colab": {
          "base_uri": "https://localhost:8080/"
        },
        "id": "JJrNk2yHH7jX",
        "outputId": "2624e47d-9595-4567-8d14-17ab49694f24"
      },
      "execution_count": 11,
      "outputs": [
        {
          "output_type": "stream",
          "name": "stdout",
          "text": [
            "pct of time result could be expected to be further away from H0 than 10: 4.93\n"
          ]
        }
      ]
    },
    {
      "cell_type": "code",
      "source": [
        "print(\"If we set N to infinity, this probability will be: \", 2*st.norm.cdf(-1.96))\n"
      ],
      "metadata": {
        "colab": {
          "base_uri": "https://localhost:8080/"
        },
        "id": "RBY1VXaGH_rK",
        "outputId": "42754129-5585-4681-ae34-730fb1dbf016"
      },
      "execution_count": 12,
      "outputs": [
        {
          "output_type": "stream",
          "name": "stdout",
          "text": [
            "If we set N to infinity, this probability will be:  0.04999579029644087\n"
          ]
        }
      ]
    },
    {
      "cell_type": "markdown",
      "source": [
        "So the there is some z-value $(\\pm 1.96)$ that demarkates 95% of the data being inside of it. If I have a data point that tends to vary, I'd like to have the same confidence that my data will fall within a particular interval, thus, a CI.\n",
        "\n",
        "We know from above demonstration that 5% of the data tends to fall OUTSIDE"
      ],
      "metadata": {
        "id": "O0uJBdxMHv7c"
      }
    },
    {
      "cell_type": "markdown",
      "source": [
        "#Exercizes:\n",
        "\n",
        "Complete 3 of the 5 exercizes.\n",
        "\n",
        "1) Show me your additional notes in the code above you made as we went through it. Should be **BOLDED**, so I know it's new.\n",
        "\n",
        "2) Tim claims he flipped 7 heads in a row on a fair coin. Do you believe him? Why? What p-value will you use to make your determination? What's your H0 and HA?\n",
        "\n",
        "3,4,5) Perform a t-test for data sets B, C and D.  Confirm if B is significantly different than 0, C is significantly different than -1, and D is significantly different than 3. Use a p-value of 5%.\n",
        "\n",
        "6) Check if A is different than B.\n",
        "\n",
        "+100 points - Write a function that performs a z-test when given the input: observed measure, H0, p-value, and standard deviation."
      ],
      "metadata": {
        "id": "RrTTrbwlP06f"
      }
    },
    {
      "cell_type": "markdown",
      "source": [
        "# Clever Loops\n"
      ],
      "metadata": {
        "id": "a7h771_JSDPi"
      }
    },
    {
      "cell_type": "code",
      "source": [
        "#Coding expansion, great uses for for-loops:\n",
        "for i in ['a','b','c','d']:\n",
        "  meanI =  normalData.loc[normalData['distribution'] == i,'data'].mean()\n",
        "  sdI =  normalData.loc[normalData['distribution'] == i,'data'].std()\n",
        "  print(\"Data set \", i, \" has a sample mean of:\", meanI, \"and SD of: \", sdI)"
      ],
      "metadata": {
        "colab": {
          "base_uri": "https://localhost:8080/"
        },
        "id": "5du6TXdNSIFz",
        "outputId": "ff6484fa-7639-4056-9532-850bdf3fff93"
      },
      "execution_count": 13,
      "outputs": [
        {
          "output_type": "stream",
          "name": "stdout",
          "text": [
            "Data set  a  has a sample mean of: 0.013682754808602482 and SD of:  0.9668115208312165\n",
            "Data set  b  has a sample mean of: -0.07089408134652452 and SD of:  2.984032995722191\n",
            "Data set  c  has a sample mean of: -3.9693591366642025 and SD of:  0.9895824432482856\n",
            "Data set  d  has a sample mean of: 5.0252705584617905 and SD of:  0.4890107513872707\n"
          ]
        }
      ]
    }
  ]
}