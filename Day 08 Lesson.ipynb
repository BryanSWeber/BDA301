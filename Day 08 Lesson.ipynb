{
  "nbformat": 4,
  "nbformat_minor": 0,
  "metadata": {
    "colab": {
      "provenance": []
    },
    "kernelspec": {
      "name": "python3",
      "display_name": "Python 3"
    },
    "language_info": {
      "name": "python"
    }
  },
  "cells": [
    {
      "cell_type": "markdown",
      "source": [
        "# Day 8 Lesson\n",
        "\n",
        "Today we are looking closely at 2 types of statistical significance tests.\n",
        "\n",
        "First, we are going to remind ourselves of how single-variable significance tests work.\n",
        "\n",
        "Second, since we are in the multivariate regression unit, we will look at F-tests and see that they can be interpreted in the same way, though the execution is different.\n",
        "\n",
        "Third, if we have time we will test for multicolinearity, something that previously we only could see through odd regression results and the fairly opaque \"eigenvalue\" diagnostic."
      ],
      "metadata": {
        "id": "7X79V6Z0Oj5p"
      }
    },
    {
      "cell_type": "code",
      "source": [
        "import numpy as np #managing data\n",
        "import pandas as pd #managing data\n",
        "import scipy.stats as st\n",
        "import seaborn as sns #Figures\n",
        "import matplotlib.pyplot as plt #Also figures\n",
        "import statsmodels.formula.api as smf #regression\n",
        "import math #squareroots and other math operations, mostly\n",
        "from statsmodels.stats.outliers_influence import variance_inflation_factor"
      ],
      "metadata": {
        "id": "2KCoTJJQOpms"
      },
      "execution_count": null,
      "outputs": []
    },
    {
      "cell_type": "markdown",
      "source": [
        "Load data from previous lesson."
      ],
      "metadata": {
        "id": "8VK9PrrB4ybP"
      }
    },
    {
      "cell_type": "code",
      "source": [
        "africaDF = pd.read_csv('sample_data/african_crises.csv')\n",
        "africaDF"
      ],
      "metadata": {
        "colab": {
          "base_uri": "https://localhost:8080/",
          "height": 444
        },
        "id": "0X2yeFnKOr9C",
        "outputId": "a5b74ab8-4a7a-4dad-b34c-b88ebe944df9"
      },
      "execution_count": null,
      "outputs": [
        {
          "output_type": "execute_result",
          "data": {
            "text/plain": [
              "      case  cc3   country  year  systemic_crisis    exch_usd  \\\n",
              "0        1  DZA   Algeria  1870                1    0.052264   \n",
              "1        1  DZA   Algeria  1871                0    0.052798   \n",
              "2        1  DZA   Algeria  1872                0    0.052274   \n",
              "3        1  DZA   Algeria  1873                0    0.051680   \n",
              "4        1  DZA   Algeria  1874                0    0.051308   \n",
              "...    ...  ...       ...   ...              ...         ...   \n",
              "1054    70  ZWE  Zimbabwe  2009                1  354.800000   \n",
              "1055    70  ZWE  Zimbabwe  2010                0  378.200000   \n",
              "1056    70  ZWE  Zimbabwe  2011                0  361.900000   \n",
              "1057    70  ZWE  Zimbabwe  2012                0  361.900000   \n",
              "1058    70  ZWE  Zimbabwe  2013                0  361.900000   \n",
              "\n",
              "      domestic_debt_in_default  sovereign_external_debt_default  \\\n",
              "0                            0                                0   \n",
              "1                            0                                0   \n",
              "2                            0                                0   \n",
              "3                            0                                0   \n",
              "4                            0                                0   \n",
              "...                        ...                              ...   \n",
              "1054                         1                                1   \n",
              "1055                         1                                1   \n",
              "1056                         1                                1   \n",
              "1057                         1                                1   \n",
              "1058                         1                                1   \n",
              "\n",
              "      gdp_weighted_default  inflation_annual_cpi  independence  \\\n",
              "0                      0.0              3.441456             0   \n",
              "1                      0.0             14.149140             0   \n",
              "2                      0.0             -3.718593             0   \n",
              "3                      0.0             11.203897             0   \n",
              "4                      0.0             -3.848561             0   \n",
              "...                    ...                   ...           ...   \n",
              "1054                   0.0             -7.670000             1   \n",
              "1055                   0.0              3.217000             1   \n",
              "1056                   0.0              4.920000             1   \n",
              "1057                   0.0              3.720000             1   \n",
              "1058                   0.0              1.632000             1   \n",
              "\n",
              "      currency_crises  inflation_crises banking_crisis  \n",
              "0                   0                 0         crisis  \n",
              "1                   0                 0      no_crisis  \n",
              "2                   0                 0      no_crisis  \n",
              "3                   0                 0      no_crisis  \n",
              "4                   0                 0      no_crisis  \n",
              "...               ...               ...            ...  \n",
              "1054                1                 0         crisis  \n",
              "1055                0                 0      no_crisis  \n",
              "1056                0                 0      no_crisis  \n",
              "1057                0                 0      no_crisis  \n",
              "1058                0                 0      no_crisis  \n",
              "\n",
              "[1059 rows x 14 columns]"
            ],
            "text/html": [
              "\n",
              "  <div id=\"df-080e1246-2873-4fe8-b208-480df339db97\" class=\"colab-df-container\">\n",
              "    <div>\n",
              "<style scoped>\n",
              "    .dataframe tbody tr th:only-of-type {\n",
              "        vertical-align: middle;\n",
              "    }\n",
              "\n",
              "    .dataframe tbody tr th {\n",
              "        vertical-align: top;\n",
              "    }\n",
              "\n",
              "    .dataframe thead th {\n",
              "        text-align: right;\n",
              "    }\n",
              "</style>\n",
              "<table border=\"1\" class=\"dataframe\">\n",
              "  <thead>\n",
              "    <tr style=\"text-align: right;\">\n",
              "      <th></th>\n",
              "      <th>case</th>\n",
              "      <th>cc3</th>\n",
              "      <th>country</th>\n",
              "      <th>year</th>\n",
              "      <th>systemic_crisis</th>\n",
              "      <th>exch_usd</th>\n",
              "      <th>domestic_debt_in_default</th>\n",
              "      <th>sovereign_external_debt_default</th>\n",
              "      <th>gdp_weighted_default</th>\n",
              "      <th>inflation_annual_cpi</th>\n",
              "      <th>independence</th>\n",
              "      <th>currency_crises</th>\n",
              "      <th>inflation_crises</th>\n",
              "      <th>banking_crisis</th>\n",
              "    </tr>\n",
              "  </thead>\n",
              "  <tbody>\n",
              "    <tr>\n",
              "      <th>0</th>\n",
              "      <td>1</td>\n",
              "      <td>DZA</td>\n",
              "      <td>Algeria</td>\n",
              "      <td>1870</td>\n",
              "      <td>1</td>\n",
              "      <td>0.052264</td>\n",
              "      <td>0</td>\n",
              "      <td>0</td>\n",
              "      <td>0.0</td>\n",
              "      <td>3.441456</td>\n",
              "      <td>0</td>\n",
              "      <td>0</td>\n",
              "      <td>0</td>\n",
              "      <td>crisis</td>\n",
              "    </tr>\n",
              "    <tr>\n",
              "      <th>1</th>\n",
              "      <td>1</td>\n",
              "      <td>DZA</td>\n",
              "      <td>Algeria</td>\n",
              "      <td>1871</td>\n",
              "      <td>0</td>\n",
              "      <td>0.052798</td>\n",
              "      <td>0</td>\n",
              "      <td>0</td>\n",
              "      <td>0.0</td>\n",
              "      <td>14.149140</td>\n",
              "      <td>0</td>\n",
              "      <td>0</td>\n",
              "      <td>0</td>\n",
              "      <td>no_crisis</td>\n",
              "    </tr>\n",
              "    <tr>\n",
              "      <th>2</th>\n",
              "      <td>1</td>\n",
              "      <td>DZA</td>\n",
              "      <td>Algeria</td>\n",
              "      <td>1872</td>\n",
              "      <td>0</td>\n",
              "      <td>0.052274</td>\n",
              "      <td>0</td>\n",
              "      <td>0</td>\n",
              "      <td>0.0</td>\n",
              "      <td>-3.718593</td>\n",
              "      <td>0</td>\n",
              "      <td>0</td>\n",
              "      <td>0</td>\n",
              "      <td>no_crisis</td>\n",
              "    </tr>\n",
              "    <tr>\n",
              "      <th>3</th>\n",
              "      <td>1</td>\n",
              "      <td>DZA</td>\n",
              "      <td>Algeria</td>\n",
              "      <td>1873</td>\n",
              "      <td>0</td>\n",
              "      <td>0.051680</td>\n",
              "      <td>0</td>\n",
              "      <td>0</td>\n",
              "      <td>0.0</td>\n",
              "      <td>11.203897</td>\n",
              "      <td>0</td>\n",
              "      <td>0</td>\n",
              "      <td>0</td>\n",
              "      <td>no_crisis</td>\n",
              "    </tr>\n",
              "    <tr>\n",
              "      <th>4</th>\n",
              "      <td>1</td>\n",
              "      <td>DZA</td>\n",
              "      <td>Algeria</td>\n",
              "      <td>1874</td>\n",
              "      <td>0</td>\n",
              "      <td>0.051308</td>\n",
              "      <td>0</td>\n",
              "      <td>0</td>\n",
              "      <td>0.0</td>\n",
              "      <td>-3.848561</td>\n",
              "      <td>0</td>\n",
              "      <td>0</td>\n",
              "      <td>0</td>\n",
              "      <td>no_crisis</td>\n",
              "    </tr>\n",
              "    <tr>\n",
              "      <th>...</th>\n",
              "      <td>...</td>\n",
              "      <td>...</td>\n",
              "      <td>...</td>\n",
              "      <td>...</td>\n",
              "      <td>...</td>\n",
              "      <td>...</td>\n",
              "      <td>...</td>\n",
              "      <td>...</td>\n",
              "      <td>...</td>\n",
              "      <td>...</td>\n",
              "      <td>...</td>\n",
              "      <td>...</td>\n",
              "      <td>...</td>\n",
              "      <td>...</td>\n",
              "    </tr>\n",
              "    <tr>\n",
              "      <th>1054</th>\n",
              "      <td>70</td>\n",
              "      <td>ZWE</td>\n",
              "      <td>Zimbabwe</td>\n",
              "      <td>2009</td>\n",
              "      <td>1</td>\n",
              "      <td>354.800000</td>\n",
              "      <td>1</td>\n",
              "      <td>1</td>\n",
              "      <td>0.0</td>\n",
              "      <td>-7.670000</td>\n",
              "      <td>1</td>\n",
              "      <td>1</td>\n",
              "      <td>0</td>\n",
              "      <td>crisis</td>\n",
              "    </tr>\n",
              "    <tr>\n",
              "      <th>1055</th>\n",
              "      <td>70</td>\n",
              "      <td>ZWE</td>\n",
              "      <td>Zimbabwe</td>\n",
              "      <td>2010</td>\n",
              "      <td>0</td>\n",
              "      <td>378.200000</td>\n",
              "      <td>1</td>\n",
              "      <td>1</td>\n",
              "      <td>0.0</td>\n",
              "      <td>3.217000</td>\n",
              "      <td>1</td>\n",
              "      <td>0</td>\n",
              "      <td>0</td>\n",
              "      <td>no_crisis</td>\n",
              "    </tr>\n",
              "    <tr>\n",
              "      <th>1056</th>\n",
              "      <td>70</td>\n",
              "      <td>ZWE</td>\n",
              "      <td>Zimbabwe</td>\n",
              "      <td>2011</td>\n",
              "      <td>0</td>\n",
              "      <td>361.900000</td>\n",
              "      <td>1</td>\n",
              "      <td>1</td>\n",
              "      <td>0.0</td>\n",
              "      <td>4.920000</td>\n",
              "      <td>1</td>\n",
              "      <td>0</td>\n",
              "      <td>0</td>\n",
              "      <td>no_crisis</td>\n",
              "    </tr>\n",
              "    <tr>\n",
              "      <th>1057</th>\n",
              "      <td>70</td>\n",
              "      <td>ZWE</td>\n",
              "      <td>Zimbabwe</td>\n",
              "      <td>2012</td>\n",
              "      <td>0</td>\n",
              "      <td>361.900000</td>\n",
              "      <td>1</td>\n",
              "      <td>1</td>\n",
              "      <td>0.0</td>\n",
              "      <td>3.720000</td>\n",
              "      <td>1</td>\n",
              "      <td>0</td>\n",
              "      <td>0</td>\n",
              "      <td>no_crisis</td>\n",
              "    </tr>\n",
              "    <tr>\n",
              "      <th>1058</th>\n",
              "      <td>70</td>\n",
              "      <td>ZWE</td>\n",
              "      <td>Zimbabwe</td>\n",
              "      <td>2013</td>\n",
              "      <td>0</td>\n",
              "      <td>361.900000</td>\n",
              "      <td>1</td>\n",
              "      <td>1</td>\n",
              "      <td>0.0</td>\n",
              "      <td>1.632000</td>\n",
              "      <td>1</td>\n",
              "      <td>0</td>\n",
              "      <td>0</td>\n",
              "      <td>no_crisis</td>\n",
              "    </tr>\n",
              "  </tbody>\n",
              "</table>\n",
              "<p>1059 rows × 14 columns</p>\n",
              "</div>\n",
              "    <div class=\"colab-df-buttons\">\n",
              "\n",
              "  <div class=\"colab-df-container\">\n",
              "    <button class=\"colab-df-convert\" onclick=\"convertToInteractive('df-080e1246-2873-4fe8-b208-480df339db97')\"\n",
              "            title=\"Convert this dataframe to an interactive table.\"\n",
              "            style=\"display:none;\">\n",
              "\n",
              "  <svg xmlns=\"http://www.w3.org/2000/svg\" height=\"24px\" viewBox=\"0 -960 960 960\">\n",
              "    <path d=\"M120-120v-720h720v720H120Zm60-500h600v-160H180v160Zm220 220h160v-160H400v160Zm0 220h160v-160H400v160ZM180-400h160v-160H180v160Zm440 0h160v-160H620v160ZM180-180h160v-160H180v160Zm440 0h160v-160H620v160Z\"/>\n",
              "  </svg>\n",
              "    </button>\n",
              "\n",
              "  <style>\n",
              "    .colab-df-container {\n",
              "      display:flex;\n",
              "      gap: 12px;\n",
              "    }\n",
              "\n",
              "    .colab-df-convert {\n",
              "      background-color: #E8F0FE;\n",
              "      border: none;\n",
              "      border-radius: 50%;\n",
              "      cursor: pointer;\n",
              "      display: none;\n",
              "      fill: #1967D2;\n",
              "      height: 32px;\n",
              "      padding: 0 0 0 0;\n",
              "      width: 32px;\n",
              "    }\n",
              "\n",
              "    .colab-df-convert:hover {\n",
              "      background-color: #E2EBFA;\n",
              "      box-shadow: 0px 1px 2px rgba(60, 64, 67, 0.3), 0px 1px 3px 1px rgba(60, 64, 67, 0.15);\n",
              "      fill: #174EA6;\n",
              "    }\n",
              "\n",
              "    .colab-df-buttons div {\n",
              "      margin-bottom: 4px;\n",
              "    }\n",
              "\n",
              "    [theme=dark] .colab-df-convert {\n",
              "      background-color: #3B4455;\n",
              "      fill: #D2E3FC;\n",
              "    }\n",
              "\n",
              "    [theme=dark] .colab-df-convert:hover {\n",
              "      background-color: #434B5C;\n",
              "      box-shadow: 0px 1px 3px 1px rgba(0, 0, 0, 0.15);\n",
              "      filter: drop-shadow(0px 1px 2px rgba(0, 0, 0, 0.3));\n",
              "      fill: #FFFFFF;\n",
              "    }\n",
              "  </style>\n",
              "\n",
              "    <script>\n",
              "      const buttonEl =\n",
              "        document.querySelector('#df-080e1246-2873-4fe8-b208-480df339db97 button.colab-df-convert');\n",
              "      buttonEl.style.display =\n",
              "        google.colab.kernel.accessAllowed ? 'block' : 'none';\n",
              "\n",
              "      async function convertToInteractive(key) {\n",
              "        const element = document.querySelector('#df-080e1246-2873-4fe8-b208-480df339db97');\n",
              "        const dataTable =\n",
              "          await google.colab.kernel.invokeFunction('convertToInteractive',\n",
              "                                                    [key], {});\n",
              "        if (!dataTable) return;\n",
              "\n",
              "        const docLinkHtml = 'Like what you see? Visit the ' +\n",
              "          '<a target=\"_blank\" href=https://colab.research.google.com/notebooks/data_table.ipynb>data table notebook</a>'\n",
              "          + ' to learn more about interactive tables.';\n",
              "        element.innerHTML = '';\n",
              "        dataTable['output_type'] = 'display_data';\n",
              "        await google.colab.output.renderOutput(dataTable, element);\n",
              "        const docLink = document.createElement('div');\n",
              "        docLink.innerHTML = docLinkHtml;\n",
              "        element.appendChild(docLink);\n",
              "      }\n",
              "    </script>\n",
              "  </div>\n",
              "\n",
              "\n",
              "<div id=\"df-60e33fb8-b5fd-4091-898a-0d926b68be9a\">\n",
              "  <button class=\"colab-df-quickchart\" onclick=\"quickchart('df-60e33fb8-b5fd-4091-898a-0d926b68be9a')\"\n",
              "            title=\"Suggest charts\"\n",
              "            style=\"display:none;\">\n",
              "\n",
              "<svg xmlns=\"http://www.w3.org/2000/svg\" height=\"24px\"viewBox=\"0 0 24 24\"\n",
              "     width=\"24px\">\n",
              "    <g>\n",
              "        <path d=\"M19 3H5c-1.1 0-2 .9-2 2v14c0 1.1.9 2 2 2h14c1.1 0 2-.9 2-2V5c0-1.1-.9-2-2-2zM9 17H7v-7h2v7zm4 0h-2V7h2v10zm4 0h-2v-4h2v4z\"/>\n",
              "    </g>\n",
              "</svg>\n",
              "  </button>\n",
              "\n",
              "<style>\n",
              "  .colab-df-quickchart {\n",
              "      --bg-color: #E8F0FE;\n",
              "      --fill-color: #1967D2;\n",
              "      --hover-bg-color: #E2EBFA;\n",
              "      --hover-fill-color: #174EA6;\n",
              "      --disabled-fill-color: #AAA;\n",
              "      --disabled-bg-color: #DDD;\n",
              "  }\n",
              "\n",
              "  [theme=dark] .colab-df-quickchart {\n",
              "      --bg-color: #3B4455;\n",
              "      --fill-color: #D2E3FC;\n",
              "      --hover-bg-color: #434B5C;\n",
              "      --hover-fill-color: #FFFFFF;\n",
              "      --disabled-bg-color: #3B4455;\n",
              "      --disabled-fill-color: #666;\n",
              "  }\n",
              "\n",
              "  .colab-df-quickchart {\n",
              "    background-color: var(--bg-color);\n",
              "    border: none;\n",
              "    border-radius: 50%;\n",
              "    cursor: pointer;\n",
              "    display: none;\n",
              "    fill: var(--fill-color);\n",
              "    height: 32px;\n",
              "    padding: 0;\n",
              "    width: 32px;\n",
              "  }\n",
              "\n",
              "  .colab-df-quickchart:hover {\n",
              "    background-color: var(--hover-bg-color);\n",
              "    box-shadow: 0 1px 2px rgba(60, 64, 67, 0.3), 0 1px 3px 1px rgba(60, 64, 67, 0.15);\n",
              "    fill: var(--button-hover-fill-color);\n",
              "  }\n",
              "\n",
              "  .colab-df-quickchart-complete:disabled,\n",
              "  .colab-df-quickchart-complete:disabled:hover {\n",
              "    background-color: var(--disabled-bg-color);\n",
              "    fill: var(--disabled-fill-color);\n",
              "    box-shadow: none;\n",
              "  }\n",
              "\n",
              "  .colab-df-spinner {\n",
              "    border: 2px solid var(--fill-color);\n",
              "    border-color: transparent;\n",
              "    border-bottom-color: var(--fill-color);\n",
              "    animation:\n",
              "      spin 1s steps(1) infinite;\n",
              "  }\n",
              "\n",
              "  @keyframes spin {\n",
              "    0% {\n",
              "      border-color: transparent;\n",
              "      border-bottom-color: var(--fill-color);\n",
              "      border-left-color: var(--fill-color);\n",
              "    }\n",
              "    20% {\n",
              "      border-color: transparent;\n",
              "      border-left-color: var(--fill-color);\n",
              "      border-top-color: var(--fill-color);\n",
              "    }\n",
              "    30% {\n",
              "      border-color: transparent;\n",
              "      border-left-color: var(--fill-color);\n",
              "      border-top-color: var(--fill-color);\n",
              "      border-right-color: var(--fill-color);\n",
              "    }\n",
              "    40% {\n",
              "      border-color: transparent;\n",
              "      border-right-color: var(--fill-color);\n",
              "      border-top-color: var(--fill-color);\n",
              "    }\n",
              "    60% {\n",
              "      border-color: transparent;\n",
              "      border-right-color: var(--fill-color);\n",
              "    }\n",
              "    80% {\n",
              "      border-color: transparent;\n",
              "      border-right-color: var(--fill-color);\n",
              "      border-bottom-color: var(--fill-color);\n",
              "    }\n",
              "    90% {\n",
              "      border-color: transparent;\n",
              "      border-bottom-color: var(--fill-color);\n",
              "    }\n",
              "  }\n",
              "</style>\n",
              "\n",
              "  <script>\n",
              "    async function quickchart(key) {\n",
              "      const quickchartButtonEl =\n",
              "        document.querySelector('#' + key + ' button');\n",
              "      quickchartButtonEl.disabled = true;  // To prevent multiple clicks.\n",
              "      quickchartButtonEl.classList.add('colab-df-spinner');\n",
              "      try {\n",
              "        const charts = await google.colab.kernel.invokeFunction(\n",
              "            'suggestCharts', [key], {});\n",
              "      } catch (error) {\n",
              "        console.error('Error during call to suggestCharts:', error);\n",
              "      }\n",
              "      quickchartButtonEl.classList.remove('colab-df-spinner');\n",
              "      quickchartButtonEl.classList.add('colab-df-quickchart-complete');\n",
              "    }\n",
              "    (() => {\n",
              "      let quickchartButtonEl =\n",
              "        document.querySelector('#df-60e33fb8-b5fd-4091-898a-0d926b68be9a button');\n",
              "      quickchartButtonEl.style.display =\n",
              "        google.colab.kernel.accessAllowed ? 'block' : 'none';\n",
              "    })();\n",
              "  </script>\n",
              "</div>\n",
              "\n",
              "  <div id=\"id_461165b4-4eb5-4473-b226-cdfa7d1add3e\">\n",
              "    <style>\n",
              "      .colab-df-generate {\n",
              "        background-color: #E8F0FE;\n",
              "        border: none;\n",
              "        border-radius: 50%;\n",
              "        cursor: pointer;\n",
              "        display: none;\n",
              "        fill: #1967D2;\n",
              "        height: 32px;\n",
              "        padding: 0 0 0 0;\n",
              "        width: 32px;\n",
              "      }\n",
              "\n",
              "      .colab-df-generate:hover {\n",
              "        background-color: #E2EBFA;\n",
              "        box-shadow: 0px 1px 2px rgba(60, 64, 67, 0.3), 0px 1px 3px 1px rgba(60, 64, 67, 0.15);\n",
              "        fill: #174EA6;\n",
              "      }\n",
              "\n",
              "      [theme=dark] .colab-df-generate {\n",
              "        background-color: #3B4455;\n",
              "        fill: #D2E3FC;\n",
              "      }\n",
              "\n",
              "      [theme=dark] .colab-df-generate:hover {\n",
              "        background-color: #434B5C;\n",
              "        box-shadow: 0px 1px 3px 1px rgba(0, 0, 0, 0.15);\n",
              "        filter: drop-shadow(0px 1px 2px rgba(0, 0, 0, 0.3));\n",
              "        fill: #FFFFFF;\n",
              "      }\n",
              "    </style>\n",
              "    <button class=\"colab-df-generate\" onclick=\"generateWithVariable('africaDF')\"\n",
              "            title=\"Generate code using this dataframe.\"\n",
              "            style=\"display:none;\">\n",
              "\n",
              "  <svg xmlns=\"http://www.w3.org/2000/svg\" height=\"24px\"viewBox=\"0 0 24 24\"\n",
              "       width=\"24px\">\n",
              "    <path d=\"M7,19H8.4L18.45,9,17,7.55,7,17.6ZM5,21V16.75L18.45,3.32a2,2,0,0,1,2.83,0l1.4,1.43a1.91,1.91,0,0,1,.58,1.4,1.91,1.91,0,0,1-.58,1.4L9.25,21ZM18.45,9,17,7.55Zm-12,3A5.31,5.31,0,0,0,4.9,8.1,5.31,5.31,0,0,0,1,6.5,5.31,5.31,0,0,0,4.9,4.9,5.31,5.31,0,0,0,6.5,1,5.31,5.31,0,0,0,8.1,4.9,5.31,5.31,0,0,0,12,6.5,5.46,5.46,0,0,0,6.5,12Z\"/>\n",
              "  </svg>\n",
              "    </button>\n",
              "    <script>\n",
              "      (() => {\n",
              "      const buttonEl =\n",
              "        document.querySelector('#id_461165b4-4eb5-4473-b226-cdfa7d1add3e button.colab-df-generate');\n",
              "      buttonEl.style.display =\n",
              "        google.colab.kernel.accessAllowed ? 'block' : 'none';\n",
              "\n",
              "      buttonEl.onclick = () => {\n",
              "        google.colab.notebook.generateWithVariable('africaDF');\n",
              "      }\n",
              "      })();\n",
              "    </script>\n",
              "  </div>\n",
              "\n",
              "    </div>\n",
              "  </div>\n"
            ],
            "application/vnd.google.colaboratory.intrinsic+json": {
              "type": "dataframe",
              "variable_name": "africaDF",
              "summary": "{\n  \"name\": \"africaDF\",\n  \"rows\": 1059,\n  \"fields\": [\n    {\n      \"column\": \"case\",\n      \"properties\": {\n        \"dtype\": \"number\",\n        \"std\": 23,\n        \"min\": 1,\n        \"max\": 70,\n        \"num_unique_values\": 13,\n        \"samples\": [\n          69,\n          56,\n          1\n        ],\n        \"semantic_type\": \"\",\n        \"description\": \"\"\n      }\n    },\n    {\n      \"column\": \"cc3\",\n      \"properties\": {\n        \"dtype\": \"category\",\n        \"num_unique_values\": 13,\n        \"samples\": [\n          \"ZMB\",\n          \"ZAF\",\n          \"DZA\"\n        ],\n        \"semantic_type\": \"\",\n        \"description\": \"\"\n      }\n    },\n    {\n      \"column\": \"country\",\n      \"properties\": {\n        \"dtype\": \"category\",\n        \"num_unique_values\": 13,\n        \"samples\": [\n          \"Zambia\",\n          \"South Africa\",\n          \"Algeria\"\n        ],\n        \"semantic_type\": \"\",\n        \"description\": \"\"\n      }\n    },\n    {\n      \"column\": \"year\",\n      \"properties\": {\n        \"dtype\": \"number\",\n        \"std\": 33,\n        \"min\": 1860,\n        \"max\": 2014,\n        \"num_unique_values\": 155,\n        \"samples\": [\n          2011,\n          1908,\n          1955\n        ],\n        \"semantic_type\": \"\",\n        \"description\": \"\"\n      }\n    },\n    {\n      \"column\": \"systemic_crisis\",\n      \"properties\": {\n        \"dtype\": \"number\",\n        \"std\": 0,\n        \"min\": 0,\n        \"max\": 1,\n        \"num_unique_values\": 2,\n        \"samples\": [\n          0,\n          1\n        ],\n        \"semantic_type\": \"\",\n        \"description\": \"\"\n      }\n    },\n    {\n      \"column\": \"exch_usd\",\n      \"properties\": {\n        \"dtype\": \"number\",\n        \"std\": 111.47538004082705,\n        \"min\": 0.0,\n        \"max\": 744.3061387,\n        \"num_unique_values\": 772,\n        \"samples\": [\n          0.3568,\n          0.196\n        ],\n        \"semantic_type\": \"\",\n        \"description\": \"\"\n      }\n    },\n    {\n      \"column\": \"domestic_debt_in_default\",\n      \"properties\": {\n        \"dtype\": \"number\",\n        \"std\": 0,\n        \"min\": 0,\n        \"max\": 1,\n        \"num_unique_values\": 2,\n        \"samples\": [\n          1,\n          0\n        ],\n        \"semantic_type\": \"\",\n        \"description\": \"\"\n      }\n    },\n    {\n      \"column\": \"sovereign_external_debt_default\",\n      \"properties\": {\n        \"dtype\": \"number\",\n        \"std\": 0,\n        \"min\": 0,\n        \"max\": 1,\n        \"num_unique_values\": 2,\n        \"samples\": [\n          1,\n          0\n        ],\n        \"semantic_type\": \"\",\n        \"description\": \"\"\n      }\n    },\n    {\n      \"column\": \"gdp_weighted_default\",\n      \"properties\": {\n        \"dtype\": \"number\",\n        \"std\": 0.04357155896915723,\n        \"min\": 0.0,\n        \"max\": 0.4,\n        \"num_unique_values\": 6,\n        \"samples\": [\n          0.0,\n          0.23\n        ],\n        \"semantic_type\": \"\",\n        \"description\": \"\"\n      }\n    },\n    {\n      \"column\": \"inflation_annual_cpi\",\n      \"properties\": {\n        \"dtype\": \"number\",\n        \"std\": 675727.4291756783,\n        \"min\": -28.50213688,\n        \"max\": 21989695.22,\n        \"num_unique_values\": 1022,\n        \"samples\": [\n          20.3,\n          8.381\n        ],\n        \"semantic_type\": \"\",\n        \"description\": \"\"\n      }\n    },\n    {\n      \"column\": \"independence\",\n      \"properties\": {\n        \"dtype\": \"number\",\n        \"std\": 0,\n        \"min\": 0,\n        \"max\": 1,\n        \"num_unique_values\": 2,\n        \"samples\": [\n          1,\n          0\n        ],\n        \"semantic_type\": \"\",\n        \"description\": \"\"\n      }\n    },\n    {\n      \"column\": \"currency_crises\",\n      \"properties\": {\n        \"dtype\": \"number\",\n        \"std\": 0,\n        \"min\": 0,\n        \"max\": 2,\n        \"num_unique_values\": 3,\n        \"samples\": [\n          0,\n          1\n        ],\n        \"semantic_type\": \"\",\n        \"description\": \"\"\n      }\n    },\n    {\n      \"column\": \"inflation_crises\",\n      \"properties\": {\n        \"dtype\": \"number\",\n        \"std\": 0,\n        \"min\": 0,\n        \"max\": 1,\n        \"num_unique_values\": 2,\n        \"samples\": [\n          1,\n          0\n        ],\n        \"semantic_type\": \"\",\n        \"description\": \"\"\n      }\n    },\n    {\n      \"column\": \"banking_crisis\",\n      \"properties\": {\n        \"dtype\": \"category\",\n        \"num_unique_values\": 2,\n        \"samples\": [\n          \"no_crisis\",\n          \"crisis\"\n        ],\n        \"semantic_type\": \"\",\n        \"description\": \"\"\n      }\n    }\n  ]\n}"
            }
          },
          "metadata": {},
          "execution_count": 4
        }
      ]
    },
    {
      "cell_type": "markdown",
      "source": [
        "# Reminder of Significance Tests\n",
        "\n",
        "First here is a simple regression using year and CPI as predictors."
      ],
      "metadata": {
        "id": "AZGWGSyP507E"
      }
    },
    {
      "cell_type": "code",
      "source": [
        "modelSingle = smf.ols('exch_usd ~ year + inflation_annual_cpi', data = africaDF).fit()\n",
        "print(modelSingle.summary())"
      ],
      "metadata": {
        "colab": {
          "base_uri": "https://localhost:8080/"
        },
        "id": "rpKpsj0-599L",
        "outputId": "5f5cf5d8-b120-42c9-e820-94bc9e4165e7"
      },
      "execution_count": null,
      "outputs": [
        {
          "output_type": "stream",
          "name": "stdout",
          "text": [
            "                            OLS Regression Results                            \n",
            "==============================================================================\n",
            "Dep. Variable:               exch_usd   R-squared:                       0.062\n",
            "Model:                            OLS   Adj. R-squared:                  0.061\n",
            "Method:                 Least Squares   F-statistic:                     35.10\n",
            "Date:                Wed, 13 Mar 2024   Prob (F-statistic):           1.75e-15\n",
            "Time:                        03:44:13   Log-Likelihood:                -6460.0\n",
            "No. Observations:                1059   AIC:                         1.293e+04\n",
            "Df Residuals:                    1056   BIC:                         1.294e+04\n",
            "Df Model:                           2                                         \n",
            "Covariance Type:            nonrobust                                         \n",
            "========================================================================================\n",
            "                           coef    std err          t      P>|t|      [0.025      0.975]\n",
            "----------------------------------------------------------------------------------------\n",
            "Intercept            -1589.2900    195.100     -8.146      0.000   -1972.118   -1206.462\n",
            "year                     0.8296      0.099      8.369      0.000       0.635       1.024\n",
            "inflation_annual_cpi -3.495e-06   4.92e-06     -0.711      0.478   -1.31e-05    6.16e-06\n",
            "==============================================================================\n",
            "Omnibus:                      699.031   Durbin-Watson:                   0.102\n",
            "Prob(Omnibus):                  0.000   Jarque-Bera (JB):             6157.060\n",
            "Skew:                           3.084   Prob(JB):                         0.00\n",
            "Kurtosis:                      13.074   Cond. No.                     3.97e+07\n",
            "==============================================================================\n",
            "\n",
            "Notes:\n",
            "[1] Standard Errors assume that the covariance matrix of the errors is correctly specified.\n",
            "[2] The condition number is large, 3.97e+07. This might indicate that there are\n",
            "strong multicollinearity or other numerical problems.\n"
          ]
        }
      ]
    },
    {
      "cell_type": "markdown",
      "source": [
        "We got a p-value of 0.478 on CPI. How often is a random variable more significant than CPI? 47.8% of the time. Let's test."
      ],
      "metadata": {
        "id": "nQUHsh8_6gCn"
      }
    },
    {
      "cell_type": "code",
      "source": [
        "#Making a random variable. It is junk so it will have a HIGH p-value and a low t-value.\n",
        "africaDF['r1'] = np.random.randint(1,100,len(africaDF.iloc[:,1]))\n",
        "modelSingle = smf.ols('exch_usd ~ year + r1', data = africaDF).fit()\n",
        "print(modelSingle.summary())"
      ],
      "metadata": {
        "colab": {
          "base_uri": "https://localhost:8080/"
        },
        "id": "qgbZP8z96Zlx",
        "outputId": "77b6cf98-c3dd-405f-be1d-4ae1f457de9f"
      },
      "execution_count": null,
      "outputs": [
        {
          "output_type": "stream",
          "name": "stdout",
          "text": [
            "                            OLS Regression Results                            \n",
            "==============================================================================\n",
            "Dep. Variable:               exch_usd   R-squared:                       0.062\n",
            "Model:                            OLS   Adj. R-squared:                  0.060\n",
            "Method:                 Least Squares   F-statistic:                     34.97\n",
            "Date:                Wed, 13 Mar 2024   Prob (F-statistic):           1.97e-15\n",
            "Time:                        03:46:53   Log-Likelihood:                -6460.1\n",
            "No. Observations:                1059   AIC:                         1.293e+04\n",
            "Df Residuals:                    1056   BIC:                         1.294e+04\n",
            "Df Model:                           2                                         \n",
            "Covariance Type:            nonrobust                                         \n",
            "==============================================================================\n",
            "                 coef    std err          t      P>|t|      [0.025      0.975]\n",
            "------------------------------------------------------------------------------\n",
            "Intercept  -1587.2042    195.077     -8.136      0.000   -1969.987   -1204.421\n",
            "year           0.8270      0.099      8.347      0.000       0.633       1.021\n",
            "r1             0.0599      0.116      0.516      0.606      -0.168       0.288\n",
            "==============================================================================\n",
            "Omnibus:                      699.668   Durbin-Watson:                   0.107\n",
            "Prob(Omnibus):                  0.000   Jarque-Bera (JB):             6175.554\n",
            "Skew:                           3.087   Prob(JB):                         0.00\n",
            "Kurtosis:                      13.091   Cond. No.                     1.16e+05\n",
            "==============================================================================\n",
            "\n",
            "Notes:\n",
            "[1] Standard Errors assume that the covariance matrix of the errors is correctly specified.\n",
            "[2] The condition number is large, 1.16e+05. This might indicate that there are\n",
            "strong multicollinearity or other numerical problems.\n"
          ]
        }
      ]
    },
    {
      "cell_type": "markdown",
      "source": [
        "Please write your t-value and p-value for r1, a totally random variable, on the board. Across the class, only about 47.8% of them will be more significant than CPI."
      ],
      "metadata": {
        "id": "2MC9nW-Z7BbM"
      }
    },
    {
      "cell_type": "markdown",
      "source": [
        "## Conducting an F-test\n",
        "\n",
        "But how does this scale? Is there a way to test the significance of many variables together, joint significance?\n",
        "\n",
        "I note joint significance means that *together* the items are capable predictors. Often, individually weak predictors combine together to be jointly significant. Think about a sports team - your team might not have any all-stars, but if they work together well, they still win!\n",
        "\n",
        "Let's test if these 3 variables are jointly significant: *domestic_debt_in_default, sovereign_external_debt_default, and inflation_crises*"
      ],
      "metadata": {
        "id": "B96ll5DGcSHS"
      }
    },
    {
      "cell_type": "code",
      "source": [
        "#First, we use everything. This is called an \"unrestricted model\" because we do not restrict what is in it.\n",
        "modelUnrestricted = smf.ols('exch_usd ~ year + inflation_annual_cpi + domestic_debt_in_default + sovereign_external_debt_default + inflation_crises', data = africaDF).fit()\n",
        "print(modelUnrestricted.summary())"
      ],
      "metadata": {
        "colab": {
          "base_uri": "https://localhost:8080/"
        },
        "id": "JDUwrDGGPBr6",
        "outputId": "625f1411-953d-44ed-d10b-da6fafea76cc"
      },
      "execution_count": null,
      "outputs": [
        {
          "output_type": "stream",
          "name": "stdout",
          "text": [
            "                            OLS Regression Results                            \n",
            "==============================================================================\n",
            "Dep. Variable:               exch_usd   R-squared:                       0.260\n",
            "Model:                            OLS   Adj. R-squared:                  0.257\n",
            "Method:                 Least Squares   F-statistic:                     74.06\n",
            "Date:                Wed, 13 Mar 2024   Prob (F-statistic):           1.53e-66\n",
            "Time:                        03:52:19   Log-Likelihood:                -6334.5\n",
            "No. Observations:                1059   AIC:                         1.268e+04\n",
            "Df Residuals:                    1053   BIC:                         1.271e+04\n",
            "Df Model:                           5                                         \n",
            "Covariance Type:            nonrobust                                         \n",
            "===================================================================================================\n",
            "                                      coef    std err          t      P>|t|      [0.025      0.975]\n",
            "---------------------------------------------------------------------------------------------------\n",
            "Intercept                        -974.9092    180.073     -5.414      0.000   -1328.253    -621.566\n",
            "year                                0.5104      0.092      5.566      0.000       0.330       0.690\n",
            "inflation_annual_cpi            -1.789e-06   4.43e-06     -0.404      0.686   -1.05e-05     6.9e-06\n",
            "domestic_debt_in_default         -127.1911     17.444     -7.291      0.000    -161.421     -92.961\n",
            "sovereign_external_debt_default   157.4663      9.572     16.450      0.000     138.683     176.249\n",
            "inflation_crises                  -41.0561      9.094     -4.514      0.000     -58.901     -23.211\n",
            "==============================================================================\n",
            "Omnibus:                      432.598   Durbin-Watson:                   0.236\n",
            "Prob(Omnibus):                  0.000   Jarque-Bera (JB):             2096.299\n",
            "Skew:                           1.864   Prob(JB):                         0.00\n",
            "Kurtosis:                       8.798   Cond. No.                     4.12e+07\n",
            "==============================================================================\n",
            "\n",
            "Notes:\n",
            "[1] Standard Errors assume that the covariance matrix of the errors is correctly specified.\n",
            "[2] The condition number is large, 4.12e+07. This might indicate that there are\n",
            "strong multicollinearity or other numerical problems.\n"
          ]
        }
      ]
    },
    {
      "cell_type": "code",
      "source": [
        "#Then, we drop all the variables we wanted to test.\n",
        "modelRestricted = smf.ols('exch_usd ~ year + inflation_annual_cpi', data = africaDF).fit()\n",
        "print(modelRestricted.summary())"
      ],
      "metadata": {
        "colab": {
          "base_uri": "https://localhost:8080/"
        },
        "id": "6LXnsUFIPmmP",
        "outputId": "7e7928e6-9b42-4cda-f1bc-9cfcdb2dc9c5"
      },
      "execution_count": null,
      "outputs": [
        {
          "output_type": "stream",
          "name": "stdout",
          "text": [
            "                            OLS Regression Results                            \n",
            "==============================================================================\n",
            "Dep. Variable:               exch_usd   R-squared:                       0.062\n",
            "Model:                            OLS   Adj. R-squared:                  0.061\n",
            "Method:                 Least Squares   F-statistic:                     35.10\n",
            "Date:                Wed, 13 Mar 2024   Prob (F-statistic):           1.75e-15\n",
            "Time:                        03:52:24   Log-Likelihood:                -6460.0\n",
            "No. Observations:                1059   AIC:                         1.293e+04\n",
            "Df Residuals:                    1056   BIC:                         1.294e+04\n",
            "Df Model:                           2                                         \n",
            "Covariance Type:            nonrobust                                         \n",
            "========================================================================================\n",
            "                           coef    std err          t      P>|t|      [0.025      0.975]\n",
            "----------------------------------------------------------------------------------------\n",
            "Intercept            -1589.2900    195.100     -8.146      0.000   -1972.118   -1206.462\n",
            "year                     0.8296      0.099      8.369      0.000       0.635       1.024\n",
            "inflation_annual_cpi -3.495e-06   4.92e-06     -0.711      0.478   -1.31e-05    6.16e-06\n",
            "==============================================================================\n",
            "Omnibus:                      699.031   Durbin-Watson:                   0.102\n",
            "Prob(Omnibus):                  0.000   Jarque-Bera (JB):             6157.060\n",
            "Skew:                           3.084   Prob(JB):                         0.00\n",
            "Kurtosis:                      13.074   Cond. No.                     3.97e+07\n",
            "==============================================================================\n",
            "\n",
            "Notes:\n",
            "[1] Standard Errors assume that the covariance matrix of the errors is correctly specified.\n",
            "[2] The condition number is large, 3.97e+07. This might indicate that there are\n",
            "strong multicollinearity or other numerical problems.\n"
          ]
        }
      ]
    },
    {
      "cell_type": "code",
      "source": [
        "# we need the residuals SQUARED again. Keep in mind residuals are stored in the object\n",
        "SSR_ur = sum(modelUnrestricted.resid**2)\n",
        "SSR_r = sum(modelRestricted.resid**2)\n",
        "q = 3 #Number of elements in family we are testing.\n",
        "n = 1059 # Number of observations\n",
        "k = 5 # Number of elements in the unrestricted regression.\n",
        "dfd = n-k-1 # This is the \"degrees of freedom\" Note the - 1 for intercept."
      ],
      "metadata": {
        "id": "qqSJ8pObPf90"
      },
      "execution_count": null,
      "outputs": []
    },
    {
      "cell_type": "code",
      "source": [
        "f_score = ( (SSR_r - SSR_ur)/q ) / ( SSR_ur/(dfd) )\n",
        "f_score"
      ],
      "metadata": {
        "colab": {
          "base_uri": "https://localhost:8080/"
        },
        "id": "GKrnKgW5P0SE",
        "outputId": "ccb60819-1708-4ff9-90b2-53a63e8d7d9f"
      },
      "execution_count": null,
      "outputs": [
        {
          "output_type": "execute_result",
          "data": {
            "text/plain": [
              "93.86024961220349"
            ]
          },
          "metadata": {},
          "execution_count": 6
        }
      ]
    },
    {
      "cell_type": "code",
      "source": [
        "1 - st.f.cdf(f_score, q, dfd)"
      ],
      "metadata": {
        "colab": {
          "base_uri": "https://localhost:8080/"
        },
        "id": "vGOs1WYUOt-t",
        "outputId": "f6d0f2dc-a87f-4268-d209-8a784928aac9"
      },
      "execution_count": null,
      "outputs": [
        {
          "output_type": "execute_result",
          "data": {
            "text/plain": [
              "1.1102230246251565e-16"
            ]
          },
          "metadata": {},
          "execution_count": 7
        }
      ]
    },
    {
      "cell_type": "markdown",
      "source": [
        "So with this **extremely small** p value, what do we do with:\n",
        "\n",
        "*   H0: The variables are jointly insignificant.\n",
        "*   HA: The variables are jointly significant.\n",
        "\n",
        "Hint: Look at earlier p-values and what they are used for.\n"
      ],
      "metadata": {
        "id": "mu2xP93ebbZK"
      }
    },
    {
      "cell_type": "markdown",
      "source": [
        "## A second example, using RNG values.\n",
        "\n",
        "They are all junk. So they should have high p-values."
      ],
      "metadata": {
        "id": "xlUSuJZ0bxmy"
      }
    },
    {
      "cell_type": "code",
      "source": [
        "africaDF['r1'] = np.random.randint(1,100,len(africaDF.iloc[:,1]))\n",
        "africaDF['r2'] = np.random.randint(1,100,len(africaDF.iloc[:,1]))\n",
        "africaDF['r3'] = np.random.randint(1,100,len(africaDF.iloc[:,1]))\n",
        "africaDF['r4'] = np.random.randint(1,100,len(africaDF.iloc[:,1]))\n",
        "africaDF['r5'] = np.random.randint(1,100,len(africaDF.iloc[:,1]))"
      ],
      "metadata": {
        "id": "94bv0c4jRwY1"
      },
      "execution_count": null,
      "outputs": []
    },
    {
      "cell_type": "code",
      "source": [
        "modelUnrestricted = smf.ols('exch_usd ~ year + inflation_annual_cpi + r1 + r2 + r3+ r4 + r5', data = africaDF).fit()\n",
        "print(modelUnrestricted.summary())"
      ],
      "metadata": {
        "colab": {
          "base_uri": "https://localhost:8080/"
        },
        "id": "d_gUGCKXZ8Qu",
        "outputId": "d8a38abb-9bcc-461c-e51f-9de78997e1a6"
      },
      "execution_count": null,
      "outputs": [
        {
          "output_type": "stream",
          "name": "stdout",
          "text": [
            "                            OLS Regression Results                            \n",
            "==============================================================================\n",
            "Dep. Variable:               exch_usd   R-squared:                       0.067\n",
            "Model:                            OLS   Adj. R-squared:                  0.060\n",
            "Method:                 Least Squares   F-statistic:                     10.73\n",
            "Date:                Wed, 13 Mar 2024   Prob (F-statistic):           4.13e-13\n",
            "Time:                        03:55:09   Log-Likelihood:                -6457.5\n",
            "No. Observations:                1059   AIC:                         1.293e+04\n",
            "Df Residuals:                    1051   BIC:                         1.297e+04\n",
            "Df Model:                           7                                         \n",
            "Covariance Type:            nonrobust                                         \n",
            "========================================================================================\n",
            "                           coef    std err          t      P>|t|      [0.025      0.975]\n",
            "----------------------------------------------------------------------------------------\n",
            "Intercept            -1595.5324    196.052     -8.138      0.000   -1980.231   -1210.834\n",
            "year                     0.8316      0.099      8.380      0.000       0.637       1.026\n",
            "inflation_annual_cpi -3.255e-06   4.93e-06     -0.660      0.509   -1.29e-05    6.42e-06\n",
            "r1                       0.1389      0.118      1.174      0.241      -0.093       0.371\n",
            "r2                      -0.1441      0.118     -1.216      0.224      -0.377       0.088\n",
            "r3                      -0.1082      0.116     -0.929      0.353      -0.337       0.120\n",
            "r4                       0.0674      0.114      0.590      0.555      -0.157       0.291\n",
            "r5                       0.0942      0.116      0.811      0.417      -0.134       0.322\n",
            "==============================================================================\n",
            "Omnibus:                      696.797   Durbin-Watson:                   0.114\n",
            "Prob(Omnibus):                  0.000   Jarque-Bera (JB):             6127.611\n",
            "Skew:                           3.071   Prob(JB):                         0.00\n",
            "Kurtosis:                      13.057   Cond. No.                     3.99e+07\n",
            "==============================================================================\n",
            "\n",
            "Notes:\n",
            "[1] Standard Errors assume that the covariance matrix of the errors is correctly specified.\n",
            "[2] The condition number is large, 3.99e+07. This might indicate that there are\n",
            "strong multicollinearity or other numerical problems.\n"
          ]
        }
      ]
    },
    {
      "cell_type": "code",
      "source": [
        "modelRestricted = smf.ols('exch_usd ~ year + inflation_annual_cpi', data = africaDF).fit()\n",
        "print(modelRestricted.summary())"
      ],
      "metadata": {
        "colab": {
          "base_uri": "https://localhost:8080/"
        },
        "id": "ywnWormfaBe9",
        "outputId": "a9d0534a-e980-4070-8d9b-a0f527a92cea"
      },
      "execution_count": null,
      "outputs": [
        {
          "output_type": "stream",
          "name": "stdout",
          "text": [
            "                            OLS Regression Results                            \n",
            "==============================================================================\n",
            "Dep. Variable:               exch_usd   R-squared:                       0.062\n",
            "Model:                            OLS   Adj. R-squared:                  0.061\n",
            "Method:                 Least Squares   F-statistic:                     35.10\n",
            "Date:                Wed, 13 Mar 2024   Prob (F-statistic):           1.75e-15\n",
            "Time:                        03:55:16   Log-Likelihood:                -6460.0\n",
            "No. Observations:                1059   AIC:                         1.293e+04\n",
            "Df Residuals:                    1056   BIC:                         1.294e+04\n",
            "Df Model:                           2                                         \n",
            "Covariance Type:            nonrobust                                         \n",
            "========================================================================================\n",
            "                           coef    std err          t      P>|t|      [0.025      0.975]\n",
            "----------------------------------------------------------------------------------------\n",
            "Intercept            -1589.2900    195.100     -8.146      0.000   -1972.118   -1206.462\n",
            "year                     0.8296      0.099      8.369      0.000       0.635       1.024\n",
            "inflation_annual_cpi -3.495e-06   4.92e-06     -0.711      0.478   -1.31e-05    6.16e-06\n",
            "==============================================================================\n",
            "Omnibus:                      699.031   Durbin-Watson:                   0.102\n",
            "Prob(Omnibus):                  0.000   Jarque-Bera (JB):             6157.060\n",
            "Skew:                           3.084   Prob(JB):                         0.00\n",
            "Kurtosis:                      13.074   Cond. No.                     3.97e+07\n",
            "==============================================================================\n",
            "\n",
            "Notes:\n",
            "[1] Standard Errors assume that the covariance matrix of the errors is correctly specified.\n",
            "[2] The condition number is large, 3.97e+07. This might indicate that there are\n",
            "strong multicollinearity or other numerical problems.\n"
          ]
        }
      ]
    },
    {
      "cell_type": "code",
      "source": [
        "SSR_ur = sum(modelUnrestricted.resid**2)\n",
        "SSR_r = sum(modelRestricted.resid**2)\n",
        "q = 5 #Number of elements in family we are testing.\n",
        "n = 1059\n",
        "k = 7 # q + remaining elements in regression. Note the - 1 for intercept\n",
        "dfd = n-k-1"
      ],
      "metadata": {
        "id": "_cMV-GkPbGYm"
      },
      "execution_count": null,
      "outputs": []
    },
    {
      "cell_type": "code",
      "source": [
        "f_score = ( (SSR_r - SSR_ur)/q ) / ( SSR_ur/(dfd) )\n",
        "f_score"
      ],
      "metadata": {
        "colab": {
          "base_uri": "https://localhost:8080/"
        },
        "outputId": "1d5bbb35-f377-41b8-e5eb-4cc1d0558285",
        "id": "XhegUoFrbGYo"
      },
      "execution_count": null,
      "outputs": [
        {
          "output_type": "execute_result",
          "data": {
            "text/plain": [
              "0.987768675647158"
            ]
          },
          "metadata": {},
          "execution_count": 17
        }
      ]
    },
    {
      "cell_type": "code",
      "source": [
        "1 - st.f.cdf(f_score, q, dfd)"
      ],
      "metadata": {
        "colab": {
          "base_uri": "https://localhost:8080/"
        },
        "id": "BN7wEHrlbSxy",
        "outputId": "cb673d08-c96b-4dbb-8a75-62f81e5ade5d"
      },
      "execution_count": null,
      "outputs": [
        {
          "output_type": "execute_result",
          "data": {
            "text/plain": [
              "0.423950755318415"
            ]
          },
          "metadata": {},
          "execution_count": 18
        }
      ]
    },
    {
      "cell_type": "markdown",
      "source": [
        "So with this **extremely large** p value, what do we do with:\n",
        "\n",
        "*   H0: The variables are jointly insignificant.\n",
        "*   HA: The variables are jointly significant.\n",
        "\n",
        "Hint: Look at earlier p-values and what they are used for."
      ],
      "metadata": {
        "id": "FF7_dU3fb4FC"
      }
    },
    {
      "cell_type": "markdown",
      "source": [
        "# Multicolinearity"
      ],
      "metadata": {
        "id": "Y-Ic9770cYPm"
      }
    },
    {
      "cell_type": "markdown",
      "source": [
        "Multicolinearity is a major problem in regression. However, the base python error is wildly insufficient to indicate the problem.\n",
        "\n",
        "Here, I am going to create a variable called 'inv_r1' that will make horrible multicolinarity, and Python will basically ignore it."
      ],
      "metadata": {
        "id": "9ymYBTSefPhW"
      }
    },
    {
      "cell_type": "code",
      "source": [
        "africaDF['inv_r1'] = 101 - africaDF['r1']\n",
        "sns.scatterplot(x = africaDF['r1'],y = africaDF['inv_r1'])"
      ],
      "metadata": {
        "colab": {
          "base_uri": "https://localhost:8080/",
          "height": 297
        },
        "id": "otlx3v-IcbpF",
        "outputId": "b4f97943-5628-4f33-856a-dee14ddc3359"
      },
      "execution_count": null,
      "outputs": [
        {
          "output_type": "execute_result",
          "data": {
            "text/plain": [
              "<Axes: xlabel='r1', ylabel='inv_r1'>"
            ]
          },
          "metadata": {},
          "execution_count": 14
        },
        {
          "output_type": "display_data",
          "data": {
            "text/plain": [
              "<Figure size 432x288 with 1 Axes>"
            ],
            "image/png": "[encoded data removed]"
          },
          "metadata": {
            "needs_background": "light"
          }
        }
      ]
    },
    {
      "cell_type": "markdown",
      "source": [
        "You can see that inv_r1 has an exact relationship to r1 (thus the name). Because they are so linearly dependant on one another, they will cause serious problems. Python will not really make much of a fuss about this very big problem either."
      ],
      "metadata": {
        "id": "RGp8skTWGMAi"
      }
    },
    {
      "cell_type": "code",
      "source": [
        "modelRestricted = smf.ols('exch_usd ~ inv_r1 + r1', data = africaDF).fit()\n",
        "print(modelRestricted.summary())"
      ],
      "metadata": {
        "colab": {
          "base_uri": "https://localhost:8080/"
        },
        "id": "9BPIlLrRevSX",
        "outputId": "77672954-b1a0-4fe3-abb2-015c9f8061f4"
      },
      "execution_count": null,
      "outputs": [
        {
          "output_type": "stream",
          "name": "stdout",
          "text": [
            "                            OLS Regression Results                            \n",
            "==============================================================================\n",
            "Dep. Variable:               exch_usd   R-squared:                       0.000\n",
            "Model:                            OLS   Adj. R-squared:                 -0.001\n",
            "Method:                 Least Squares   F-statistic:                    0.3176\n",
            "Date:                Wed, 22 Mar 2023   Prob (F-statistic):              0.573\n",
            "Time:                        20:45:59   Log-Likelihood:                -6493.9\n",
            "No. Observations:                1059   AIC:                         1.299e+04\n",
            "Df Residuals:                    1057   BIC:                         1.300e+04\n",
            "Df Model:                           1                                         \n",
            "Covariance Type:            nonrobust                                         \n",
            "==============================================================================\n",
            "                 coef    std err          t      P>|t|      [0.025      0.975]\n",
            "------------------------------------------------------------------------------\n",
            "Intercept      0.0085      0.001     12.601      0.000       0.007       0.010\n",
            "inv_r1         0.4608      0.069      6.694      0.000       0.326       0.596\n",
            "r1             0.3945      0.067      5.885      0.000       0.263       0.526\n",
            "==============================================================================\n",
            "Omnibus:                      736.981   Durbin-Watson:                   0.103\n",
            "Prob(Omnibus):                  0.000   Jarque-Bera (JB):             7168.765\n",
            "Skew:                           3.273   Prob(JB):                         0.00\n",
            "Kurtosis:                      13.937   Cond. No.                     1.53e+17\n",
            "==============================================================================\n",
            "\n",
            "Notes:\n",
            "[1] Standard Errors assume that the covariance matrix of the errors is correctly specified.\n",
            "[2] The smallest eigenvalue is 2.32e-28. This might indicate that there are\n",
            "strong multicollinearity problems or that the design matrix is singular.\n"
          ]
        }
      ]
    },
    {
      "cell_type": "markdown",
      "source": [
        "The error message here is:\n",
        "\n",
        "The smallest eigenvalue is ***1.75e-28***. This might indicate that there are strong multicollinearity problems or that the design matrix is singular.\n",
        "\n",
        "Compare to earlier:\n",
        "\n",
        "The condition number is large, ***4.12e+07***. This might indicate that there are\n",
        "strong multicollinearity or other numerical problems."
      ],
      "metadata": {
        "id": "AVQOT4YID0zA"
      }
    },
    {
      "cell_type": "markdown",
      "source": [
        "## VIF Test"
      ],
      "metadata": {
        "id": "S_j09fMrENYc"
      }
    },
    {
      "cell_type": "markdown",
      "source": [
        "There is a test to determine if multicolinearity is a problem, here is the VIF test, \"**V**ariance **I**nflation **F**actor\".  I will be conducting it manually here:"
      ],
      "metadata": {
        "id": "sPsgEsLXFDfK"
      }
    },
    {
      "cell_type": "code",
      "source": [
        "modelVIF = smf.ols('inv_r1 ~ r1', data = africaDF).fit()\n",
        "print(modelVIF.summary())"
      ],
      "metadata": {
        "colab": {
          "base_uri": "https://localhost:8080/"
        },
        "id": "dNBZ1WEAEJP5",
        "outputId": "089fd813-01fe-46ad-8e9f-94d94084bd46"
      },
      "execution_count": null,
      "outputs": [
        {
          "output_type": "stream",
          "name": "stdout",
          "text": [
            "                            OLS Regression Results                            \n",
            "==============================================================================\n",
            "Dep. Variable:                 inv_r1   R-squared:                       1.000\n",
            "Model:                            OLS   Adj. R-squared:                  1.000\n",
            "Method:                 Least Squares   F-statistic:                 1.109e+33\n",
            "Date:                Wed, 22 Mar 2023   Prob (F-statistic):               0.00\n",
            "Time:                        20:45:59   Log-Likelihood:                 31529.\n",
            "No. Observations:                1059   AIC:                        -6.305e+04\n",
            "Df Residuals:                    1057   BIC:                        -6.304e+04\n",
            "Df Model:                           1                                         \n",
            "Covariance Type:            nonrobust                                         \n",
            "==============================================================================\n",
            "                 coef    std err          t      P>|t|      [0.025      0.975]\n",
            "------------------------------------------------------------------------------\n",
            "Intercept    101.0000   1.77e-15   5.69e+16      0.000     101.000     101.000\n",
            "r1            -1.0000      3e-17  -3.33e+16      0.000      -1.000      -1.000\n",
            "==============================================================================\n",
            "Omnibus:                          nan   Durbin-Watson:                   0.000\n",
            "Prob(Omnibus):                    nan   Jarque-Bera (JB):                  nan\n",
            "Skew:                             nan   Prob(JB):                          nan\n",
            "Kurtosis:                         nan   Cond. No.                         120.\n",
            "==============================================================================\n",
            "\n",
            "Notes:\n",
            "[1] Standard Errors assume that the covariance matrix of the errors is correctly specified.\n"
          ]
        },
        {
          "output_type": "stream",
          "name": "stderr",
          "text": [
            "/usr/local/lib/python3.9/dist-packages/statsmodels/stats/stattools.py:125: RuntimeWarning: Precision loss occurred in moment calculation due to catastrophic cancellation. This occurs when the data are nearly identical. Results may be unreliable.\n",
            "  skew = stats.skew(resids, axis=axis)\n",
            "/usr/local/lib/python3.9/dist-packages/statsmodels/stats/stattools.py:126: RuntimeWarning: Precision loss occurred in moment calculation due to catastrophic cancellation. This occurs when the data are nearly identical. Results may be unreliable.\n",
            "  kurtosis = 3 + stats.kurtosis(resids, axis=axis)\n",
            "/usr/local/lib/python3.9/dist-packages/scipy/stats/_stats_py.py:1633: RuntimeWarning: Precision loss occurred in moment calculation due to catastrophic cancellation. This occurs when the data are nearly identical. Results may be unreliable.\n",
            "  b2 = skew(a, axis)\n",
            "/usr/local/lib/python3.9/dist-packages/scipy/stats/_stats_py.py:1738: RuntimeWarning: Precision loss occurred in moment calculation due to catastrophic cancellation. This occurs when the data are nearly identical. Results may be unreliable.\n",
            "  b2 = kurtosis(a, axis, fisher=False)\n"
          ]
        }
      ]
    },
    {
      "cell_type": "markdown",
      "source": [
        "Finally, a real error. Other software will would have issued something for the multicolinearity set of estimations."
      ],
      "metadata": {
        "id": "uJS0qzCFEpqM"
      }
    },
    {
      "cell_type": "code",
      "source": [
        "# vifScore = 1/(1-R_squared)\n",
        "vifScore = 1/(1-1.000)\n",
        "# vifScore = 1/0, infinity/NAN"
      ],
      "metadata": {
        "id": "-RDNbFPHEXfy"
      },
      "execution_count": null,
      "outputs": []
    },
    {
      "cell_type": "markdown",
      "source": [
        "If the VIF score is greater than 5, we likely have a problem.\n",
        "This is a rule of thumb, note that: 4.9999 does not mean we are problem-free, we should still flag something is wrong at that point.    Our test returns 1/0 which is roughly infinity or undefined. That's pretty big!  Very serious multicolinearity is absolutely a problem here."
      ],
      "metadata": {
        "id": "PwIxT5yyFPDF"
      }
    },
    {
      "cell_type": "markdown",
      "source": [
        "# Activities\n",
        "\n",
        "Do any 3:\n",
        "\n",
        "1.   Show me your notes, something formatted in a blowout manner so I can see you have explored.\n",
        "2.   Take a manual F-test on the data in california_housing_test.csv, show all steps. You may pick any unique family of variables to use.\n",
        "3.   Conduct a manual VIF test using the data in california_housing_test.csv, determine if a single variable is multicolinear with the remainder of the regressors, you may pick the regressors.\n",
        "4.   Conduct a VIF test using all of the regressors in the california_housing_test.csv, Hint: check your Zybooks work.\n"
      ],
      "metadata": {
        "id": "KQ5Bh1aJHmxb"
      }
    }
  ]
}